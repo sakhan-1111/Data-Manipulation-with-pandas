{
 "cells": [
  {
   "cell_type": "markdown",
   "id": "d76451d6",
   "metadata": {},
   "source": [
    "# 1 Transforming DataFrames\n",
    "Let’s master the pandas basics. Learn how to inspect DataFrames and perform fundamental manipulations, including sorting rows, subsetting, and adding new columns."
   ]
  },
  {
   "cell_type": "markdown",
   "id": "d0b07c99",
   "metadata": {},
   "source": [
    "## 1.1 Introducing DataFrames"
   ]
  },
  {
   "cell_type": "markdown",
   "id": "1cd8b4d7",
   "metadata": {},
   "source": [
    "## 1.2 Inspecting a DataFrame\n",
    "When you get a new DataFrame to work with, the first thing you need to do is explore it and see what it contains. There are several useful methods and attributes for this.\n",
    "\n",
    "- `.head()` returns the first few rows (the “head” of the DataFrame).\n",
    "- `.info()` shows information on each of the columns, such as the data type and number of missing values.\n",
    "- `.shape` returns the number of rows and columns of the DataFrame.\n",
    "- `.describe()` calculates a few summary statistics for each column.\n",
    "\n",
    "`homelessness` is a DataFrame containing estimates of homelessness in each U.S. state in 2018. The `individual` column is the number of homeless individuals not part of a family with children. The `family_members` column is the number of homeless individuals part of a family with children. The `state_pop` column is the state's total population.\n",
    "\n",
    "`pandas` is imported for you."
   ]
  },
  {
   "cell_type": "markdown",
   "id": "9e5f0cd1",
   "metadata": {},
   "source": [
    "### 1.2.1 Instructions 1/4\n",
    "- Print the head of the `homelessness` DataFrame."
   ]
  },
  {
   "cell_type": "code",
   "execution_count": 1,
   "id": "a047c5c3",
   "metadata": {},
   "outputs": [
    {
     "name": "stdout",
     "output_type": "stream",
     "text": [
      "   Unnamed: 0              region       state  individuals  family_members  \\\n",
      "0           0  East South Central     Alabama       2570.0           864.0   \n",
      "1           1             Pacific      Alaska       1434.0           582.0   \n",
      "2           2            Mountain     Arizona       7259.0          2606.0   \n",
      "3           3  West South Central    Arkansas       2280.0           432.0   \n",
      "4           4             Pacific  California     109008.0         20964.0   \n",
      "\n",
      "   state_pop  \n",
      "0    4887681  \n",
      "1     735139  \n",
      "2    7158024  \n",
      "3    3009733  \n",
      "4   39461588  \n"
     ]
    }
   ],
   "source": [
    "import pandas as pd\n",
    "homelessness = pd.read_csv('datasets/homelessness.csv')\n",
    "\n",
    "# Print the head of the homelessness data\n",
    "print(homelessness.head())"
   ]
  },
  {
   "cell_type": "markdown",
   "id": "2babc15a",
   "metadata": {},
   "source": [
    "### 1.2.2 Instructions 2/4\n",
    "- Print information about the column types and missing values in `homelessness`."
   ]
  },
  {
   "cell_type": "code",
   "execution_count": 2,
   "id": "fe9f249a",
   "metadata": {},
   "outputs": [
    {
     "name": "stdout",
     "output_type": "stream",
     "text": [
      "   Unnamed: 0              region       state  individuals  family_members  \\\n",
      "0           0  East South Central     Alabama       2570.0           864.0   \n",
      "1           1             Pacific      Alaska       1434.0           582.0   \n",
      "2           2            Mountain     Arizona       7259.0          2606.0   \n",
      "3           3  West South Central    Arkansas       2280.0           432.0   \n",
      "4           4             Pacific  California     109008.0         20964.0   \n",
      "\n",
      "   state_pop  \n",
      "0    4887681  \n",
      "1     735139  \n",
      "2    7158024  \n",
      "3    3009733  \n",
      "4   39461588  \n",
      "<class 'pandas.core.frame.DataFrame'>\n",
      "RangeIndex: 51 entries, 0 to 50\n",
      "Data columns (total 6 columns):\n",
      " #   Column          Non-Null Count  Dtype  \n",
      "---  ------          --------------  -----  \n",
      " 0   Unnamed: 0      51 non-null     int64  \n",
      " 1   region          51 non-null     object \n",
      " 2   state           51 non-null     object \n",
      " 3   individuals     51 non-null     float64\n",
      " 4   family_members  51 non-null     float64\n",
      " 5   state_pop       51 non-null     int64  \n",
      "dtypes: float64(2), int64(2), object(2)\n",
      "memory usage: 2.5+ KB\n",
      "None\n"
     ]
    }
   ],
   "source": [
    "# Print the head of the homelessness data\n",
    "print(homelessness.head())\n",
    "\n",
    "# Print information about homelessness\n",
    "print(homelessness.info())"
   ]
  },
  {
   "cell_type": "markdown",
   "id": "bbd33242",
   "metadata": {},
   "source": [
    "### 1.2.3 Instructions 3/4\n",
    "- Print the number of rows and columns in `homelessness`."
   ]
  },
  {
   "cell_type": "code",
   "execution_count": 3,
   "id": "15f5c572",
   "metadata": {},
   "outputs": [
    {
     "name": "stdout",
     "output_type": "stream",
     "text": [
      "   Unnamed: 0              region       state  individuals  family_members  \\\n",
      "0           0  East South Central     Alabama       2570.0           864.0   \n",
      "1           1             Pacific      Alaska       1434.0           582.0   \n",
      "2           2            Mountain     Arizona       7259.0          2606.0   \n",
      "3           3  West South Central    Arkansas       2280.0           432.0   \n",
      "4           4             Pacific  California     109008.0         20964.0   \n",
      "\n",
      "   state_pop  \n",
      "0    4887681  \n",
      "1     735139  \n",
      "2    7158024  \n",
      "3    3009733  \n",
      "4   39461588  \n",
      "<class 'pandas.core.frame.DataFrame'>\n",
      "RangeIndex: 51 entries, 0 to 50\n",
      "Data columns (total 6 columns):\n",
      " #   Column          Non-Null Count  Dtype  \n",
      "---  ------          --------------  -----  \n",
      " 0   Unnamed: 0      51 non-null     int64  \n",
      " 1   region          51 non-null     object \n",
      " 2   state           51 non-null     object \n",
      " 3   individuals     51 non-null     float64\n",
      " 4   family_members  51 non-null     float64\n",
      " 5   state_pop       51 non-null     int64  \n",
      "dtypes: float64(2), int64(2), object(2)\n",
      "memory usage: 2.5+ KB\n",
      "None\n",
      "(51, 6)\n"
     ]
    }
   ],
   "source": [
    "# Print the head of the homelessness data\n",
    "print(homelessness.head())\n",
    "\n",
    "# Print information about homelessness\n",
    "print(homelessness.info())\n",
    "\n",
    "# Print the shape of homelessness\n",
    "print(homelessness.shape)"
   ]
  },
  {
   "cell_type": "markdown",
   "id": "66a244dd",
   "metadata": {},
   "source": [
    "### 1.2.4 Instructions 4/4\n",
    "- Print some summary statistics that describe the `homelessness` DataFrame."
   ]
  },
  {
   "cell_type": "code",
   "execution_count": 4,
   "id": "bdf74cf5",
   "metadata": {},
   "outputs": [
    {
     "name": "stdout",
     "output_type": "stream",
     "text": [
      "   Unnamed: 0              region       state  individuals  family_members  \\\n",
      "0           0  East South Central     Alabama       2570.0           864.0   \n",
      "1           1             Pacific      Alaska       1434.0           582.0   \n",
      "2           2            Mountain     Arizona       7259.0          2606.0   \n",
      "3           3  West South Central    Arkansas       2280.0           432.0   \n",
      "4           4             Pacific  California     109008.0         20964.0   \n",
      "\n",
      "   state_pop  \n",
      "0    4887681  \n",
      "1     735139  \n",
      "2    7158024  \n",
      "3    3009733  \n",
      "4   39461588  \n",
      "<class 'pandas.core.frame.DataFrame'>\n",
      "RangeIndex: 51 entries, 0 to 50\n",
      "Data columns (total 6 columns):\n",
      " #   Column          Non-Null Count  Dtype  \n",
      "---  ------          --------------  -----  \n",
      " 0   Unnamed: 0      51 non-null     int64  \n",
      " 1   region          51 non-null     object \n",
      " 2   state           51 non-null     object \n",
      " 3   individuals     51 non-null     float64\n",
      " 4   family_members  51 non-null     float64\n",
      " 5   state_pop       51 non-null     int64  \n",
      "dtypes: float64(2), int64(2), object(2)\n",
      "memory usage: 2.5+ KB\n",
      "None\n",
      "(51, 6)\n",
      "       Unnamed: 0    individuals  family_members     state_pop\n",
      "count   51.000000      51.000000       51.000000  5.100000e+01\n",
      "mean    25.000000    7225.784314     3504.882353  6.405637e+06\n",
      "std     14.866069   15991.025083     7805.411811  7.327258e+06\n",
      "min      0.000000     434.000000       75.000000  5.776010e+05\n",
      "25%     12.500000    1446.500000      592.000000  1.777414e+06\n",
      "50%     25.000000    3082.000000     1482.000000  4.461153e+06\n",
      "75%     37.500000    6781.500000     3196.000000  7.340946e+06\n",
      "max     50.000000  109008.000000    52070.000000  3.946159e+07\n"
     ]
    }
   ],
   "source": [
    "# Print the head of the homelessness data\n",
    "print(homelessness.head())\n",
    "\n",
    "# Print information about homelessness\n",
    "print(homelessness.info())\n",
    "\n",
    "# Print the shape of homelessness\n",
    "print(homelessness.shape)\n",
    "\n",
    "# Print a description of homelessness\n",
    "print(homelessness.describe())"
   ]
  },
  {
   "cell_type": "markdown",
   "id": "a87a3568",
   "metadata": {},
   "source": [
    "## 1.3 Parts of a DataFrame\n",
    "To better understand DataFrame objects, it's useful to know that they consist of three components, stored as attributes:\n",
    "\n",
    "- `.values`: A two-dimensional NumPy array of values.\n",
    "- `.columns`: An index of columns: the column names.\n",
    "- `.index`: An index for the rows: either row numbers or row names.\n",
    "\n",
    "You can usually think of indexes as a list of strings or numbers, though the pandas `Index` data type allows for more sophisticated options. (These will be covered later in the course.)\n",
    "\n",
    "`homelessness` is available."
   ]
  },
  {
   "cell_type": "markdown",
   "id": "f16c488b",
   "metadata": {},
   "source": [
    "### 1.3.1 Instructions\n",
    "- Import `pandas` using the alias `pd`.\n",
    "- Print a 2D NumPy array of the values in `homelessness`.\n",
    "- Print the column names of `homelessness`.\n",
    "- Print the index of `homelessness`."
   ]
  },
  {
   "cell_type": "code",
   "execution_count": 5,
   "id": "a41ed203",
   "metadata": {},
   "outputs": [
    {
     "name": "stdout",
     "output_type": "stream",
     "text": [
      "[[0 'East South Central' 'Alabama' 2570.0 864.0 4887681]\n",
      " [1 'Pacific' 'Alaska' 1434.0 582.0 735139]\n",
      " [2 'Mountain' 'Arizona' 7259.0 2606.0 7158024]\n",
      " [3 'West South Central' 'Arkansas' 2280.0 432.0 3009733]\n",
      " [4 'Pacific' 'California' 109008.0 20964.0 39461588]\n",
      " [5 'Mountain' 'Colorado' 7607.0 3250.0 5691287]\n",
      " [6 'New England' 'Connecticut' 2280.0 1696.0 3571520]\n",
      " [7 'South Atlantic' 'Delaware' 708.0 374.0 965479]\n",
      " [8 'South Atlantic' 'District of Columbia' 3770.0 3134.0 701547]\n",
      " [9 'South Atlantic' 'Florida' 21443.0 9587.0 21244317]\n",
      " [10 'South Atlantic' 'Georgia' 6943.0 2556.0 10511131]\n",
      " [11 'Pacific' 'Hawaii' 4131.0 2399.0 1420593]\n",
      " [12 'Mountain' 'Idaho' 1297.0 715.0 1750536]\n",
      " [13 'East North Central' 'Illinois' 6752.0 3891.0 12723071]\n",
      " [14 'East North Central' 'Indiana' 3776.0 1482.0 6695497]\n",
      " [15 'West North Central' 'Iowa' 1711.0 1038.0 3148618]\n",
      " [16 'West North Central' 'Kansas' 1443.0 773.0 2911359]\n",
      " [17 'East South Central' 'Kentucky' 2735.0 953.0 4461153]\n",
      " [18 'West South Central' 'Louisiana' 2540.0 519.0 4659690]\n",
      " [19 'New England' 'Maine' 1450.0 1066.0 1339057]\n",
      " [20 'South Atlantic' 'Maryland' 4914.0 2230.0 6035802]\n",
      " [21 'New England' 'Massachusetts' 6811.0 13257.0 6882635]\n",
      " [22 'East North Central' 'Michigan' 5209.0 3142.0 9984072]\n",
      " [23 'West North Central' 'Minnesota' 3993.0 3250.0 5606249]\n",
      " [24 'East South Central' 'Mississippi' 1024.0 328.0 2981020]\n",
      " [25 'West North Central' 'Missouri' 3776.0 2107.0 6121623]\n",
      " [26 'Mountain' 'Montana' 983.0 422.0 1060665]\n",
      " [27 'West North Central' 'Nebraska' 1745.0 676.0 1925614]\n",
      " [28 'Mountain' 'Nevada' 7058.0 486.0 3027341]\n",
      " [29 'New England' 'New Hampshire' 835.0 615.0 1353465]\n",
      " [30 'Mid-Atlantic' 'New Jersey' 6048.0 3350.0 8886025]\n",
      " [31 'Mountain' 'New Mexico' 1949.0 602.0 2092741]\n",
      " [32 'Mid-Atlantic' 'New York' 39827.0 52070.0 19530351]\n",
      " [33 'South Atlantic' 'North Carolina' 6451.0 2817.0 10381615]\n",
      " [34 'West North Central' 'North Dakota' 467.0 75.0 758080]\n",
      " [35 'East North Central' 'Ohio' 6929.0 3320.0 11676341]\n",
      " [36 'West South Central' 'Oklahoma' 2823.0 1048.0 3940235]\n",
      " [37 'Pacific' 'Oregon' 11139.0 3337.0 4181886]\n",
      " [38 'Mid-Atlantic' 'Pennsylvania' 8163.0 5349.0 12800922]\n",
      " [39 'New England' 'Rhode Island' 747.0 354.0 1058287]\n",
      " [40 'South Atlantic' 'South Carolina' 3082.0 851.0 5084156]\n",
      " [41 'West North Central' 'South Dakota' 836.0 323.0 878698]\n",
      " [42 'East South Central' 'Tennessee' 6139.0 1744.0 6771631]\n",
      " [43 'West South Central' 'Texas' 19199.0 6111.0 28628666]\n",
      " [44 'Mountain' 'Utah' 1904.0 972.0 3153550]\n",
      " [45 'New England' 'Vermont' 780.0 511.0 624358]\n",
      " [46 'South Atlantic' 'Virginia' 3928.0 2047.0 8501286]\n",
      " [47 'Pacific' 'Washington' 16424.0 5880.0 7523869]\n",
      " [48 'South Atlantic' 'West Virginia' 1021.0 222.0 1804291]\n",
      " [49 'East North Central' 'Wisconsin' 2740.0 2167.0 5807406]\n",
      " [50 'Mountain' 'Wyoming' 434.0 205.0 577601]]\n",
      "Index(['Unnamed: 0', 'region', 'state', 'individuals', 'family_members',\n",
      "       'state_pop'],\n",
      "      dtype='object')\n",
      "RangeIndex(start=0, stop=51, step=1)\n"
     ]
    }
   ],
   "source": [
    "# Import pandas using the alias pd\n",
    "#import pandas as pd\n",
    "\n",
    "# Print the values of homelessness\n",
    "print(homelessness.values)\n",
    "\n",
    "# Print the column index of homelessness\n",
    "print(homelessness.columns)\n",
    "\n",
    "# Print the row index of homelessness\n",
    "print(homelessness.index)"
   ]
  },
  {
   "cell_type": "markdown",
   "id": "77b17d6d",
   "metadata": {},
   "source": [
    "## 1.4 Sorting and subsetting"
   ]
  },
  {
   "cell_type": "markdown",
   "id": "bc021c77",
   "metadata": {},
   "source": [
    "## 1.5 Sorting rows\n",
    "Finding interesting bits of data in a DataFrame is often easier if you change the order of the rows. You can sort the rows by passing a column name to `.sort_values()`.\n",
    "\n",
    "In cases where rows have the same value (this is common if you sort on a categorical variable), you may wish to break the ties by sorting on another column. You can sort on multiple columns in this way by passing a list of column names.\n",
    "\n",
    "| Sort on …        | Syntax                                   |\n",
    "|:----------------:|:----------------------------------------:|\n",
    "| one column       | `df.sort_values(\"breed\")`                |\n",
    "| multiple columns | `df.sort_values([\"breed\", \"weight_kg\"])` |\n",
    "\n",
    "By combining `.sort_values()` with `.head()`, you can answer questions in the form, \"What are the top cases where…?\".\n",
    "\n",
    "`homelessness` is available and `pandas` is loaded as `pd`."
   ]
  },
  {
   "cell_type": "markdown",
   "id": "55bf4af2",
   "metadata": {},
   "source": [
    "### 1.5.1 Instructions 1/3\n",
    "- Sort `homelessness` by the number of homeless individuals, from smallest to largest, and save this as `homelessness_ind`.\n",
    "- Print the head of the sorted DataFrame."
   ]
  },
  {
   "cell_type": "code",
   "execution_count": 6,
   "id": "dcd50982",
   "metadata": {},
   "outputs": [
    {
     "name": "stdout",
     "output_type": "stream",
     "text": [
      "    Unnamed: 0              region         state  individuals  family_members  \\\n",
      "50          50            Mountain       Wyoming        434.0           205.0   \n",
      "34          34  West North Central  North Dakota        467.0            75.0   \n",
      "7            7      South Atlantic      Delaware        708.0           374.0   \n",
      "39          39         New England  Rhode Island        747.0           354.0   \n",
      "45          45         New England       Vermont        780.0           511.0   \n",
      "\n",
      "    state_pop  \n",
      "50     577601  \n",
      "34     758080  \n",
      "7      965479  \n",
      "39    1058287  \n",
      "45     624358  \n"
     ]
    }
   ],
   "source": [
    "# Sort homelessness by individuals\n",
    "homelessness_ind = homelessness.sort_values(\"individuals\")\n",
    "\n",
    "# Print the top few rows\n",
    "print(homelessness_ind.head())"
   ]
  },
  {
   "cell_type": "markdown",
   "id": "fc570769",
   "metadata": {},
   "source": [
    "### 1.5.2 Instructions 2/3\n",
    "- Sort `homelessness` by the number of homeless `family_members` in descending order, and save this as `homelessness_fam`.\n",
    "- Print the head of the sorted DataFrame."
   ]
  },
  {
   "cell_type": "code",
   "execution_count": 7,
   "id": "a1692bc4",
   "metadata": {},
   "outputs": [
    {
     "name": "stdout",
     "output_type": "stream",
     "text": [
      "    Unnamed: 0              region          state  individuals  \\\n",
      "32          32        Mid-Atlantic       New York      39827.0   \n",
      "4            4             Pacific     California     109008.0   \n",
      "21          21         New England  Massachusetts       6811.0   \n",
      "9            9      South Atlantic        Florida      21443.0   \n",
      "43          43  West South Central          Texas      19199.0   \n",
      "\n",
      "    family_members  state_pop  \n",
      "32         52070.0   19530351  \n",
      "4          20964.0   39461588  \n",
      "21         13257.0    6882635  \n",
      "9           9587.0   21244317  \n",
      "43          6111.0   28628666  \n"
     ]
    }
   ],
   "source": [
    "# Sort homelessness by descending family members\n",
    "homelessness_fam = homelessness.sort_values(\"family_members\", ascending = False)\n",
    "\n",
    "# Print the top few rows\n",
    "print(homelessness_fam.head())"
   ]
  },
  {
   "cell_type": "markdown",
   "id": "d979336f",
   "metadata": {},
   "source": [
    "### 1.5.3 Instructions 3/3\n",
    "- Sort `homelessness` first by region (ascending), and then by number of family members (descending). Save this as `homelessness_reg_fam`.\n",
    "- Print the head of the sorted DataFrame."
   ]
  },
  {
   "cell_type": "code",
   "execution_count": 8,
   "id": "474e477d",
   "metadata": {},
   "outputs": [
    {
     "name": "stdout",
     "output_type": "stream",
     "text": [
      "    Unnamed: 0              region      state  individuals  family_members  \\\n",
      "13          13  East North Central   Illinois       6752.0          3891.0   \n",
      "35          35  East North Central       Ohio       6929.0          3320.0   \n",
      "22          22  East North Central   Michigan       5209.0          3142.0   \n",
      "49          49  East North Central  Wisconsin       2740.0          2167.0   \n",
      "14          14  East North Central    Indiana       3776.0          1482.0   \n",
      "\n",
      "    state_pop  \n",
      "13   12723071  \n",
      "35   11676341  \n",
      "22    9984072  \n",
      "49    5807406  \n",
      "14    6695497  \n"
     ]
    }
   ],
   "source": [
    "# Sort homelessness by region, then descending family members\n",
    "homelessness_reg_fam = homelessness.sort_values([\"region\", \"family_members\"], ascending = [True, False])\n",
    "\n",
    "# Print the top few rows\n",
    "print(homelessness_reg_fam.head())"
   ]
  },
  {
   "cell_type": "markdown",
   "id": "d30bd7c3",
   "metadata": {},
   "source": [
    "## 1.6 Subsetting columns\n",
    "When working with data, you may not need all of the variables in your dataset. Square brackets (`[]`) can be used to select only the columns that matter to you in an order that makes sense to you. To select only `\"col_a\"` of the DataFrame `df`, use\n",
    "\n",
    "```python\n",
    "df[\"col_a\"]\n",
    "```\n",
    "\n",
    "To select `\"col_a\"` and `\"col_b\"` of `df`, use\n",
    "\n",
    "```python\n",
    "df[[\"col_a\", \"col_b\"]]\n",
    "```\n",
    "\n",
    "`homelessness` is available and `pandas` is loaded as `pd`."
   ]
  },
  {
   "cell_type": "markdown",
   "id": "8790708a",
   "metadata": {},
   "source": [
    "### 1.6.1 Instructions 1/3\n",
    "- Create a DataFrame called `individuals` that contains only the `individuals` column of `homelessness`.\n",
    "- Print the head of the result."
   ]
  },
  {
   "cell_type": "code",
   "execution_count": 9,
   "id": "a72f3e89",
   "metadata": {},
   "outputs": [
    {
     "name": "stdout",
     "output_type": "stream",
     "text": [
      "0      2570.0\n",
      "1      1434.0\n",
      "2      7259.0\n",
      "3      2280.0\n",
      "4    109008.0\n",
      "Name: individuals, dtype: float64\n"
     ]
    }
   ],
   "source": [
    "# Select the individuals column\n",
    "individuals = homelessness[\"individuals\"]\n",
    "\n",
    "# Print the head of the result\n",
    "print(individuals.head())"
   ]
  },
  {
   "cell_type": "markdown",
   "id": "c77ab6da",
   "metadata": {},
   "source": [
    "### 1.6.2 Instructions 2/3\n",
    "- Create a DataFrame called `state_fam` that contains only the `state` and `family_members` columns of `homelessness`, in that order.\n",
    "- Print the head of the result."
   ]
  },
  {
   "cell_type": "code",
   "execution_count": 10,
   "id": "59bca506",
   "metadata": {},
   "outputs": [
    {
     "name": "stdout",
     "output_type": "stream",
     "text": [
      "        state  family_members\n",
      "0     Alabama           864.0\n",
      "1      Alaska           582.0\n",
      "2     Arizona          2606.0\n",
      "3    Arkansas           432.0\n",
      "4  California         20964.0\n"
     ]
    }
   ],
   "source": [
    "# Select the state and family_members columns\n",
    "state_fam = homelessness[[\"state\", \"family_members\"]]\n",
    "\n",
    "# Print the head of the result\n",
    "print(state_fam.head())"
   ]
  },
  {
   "cell_type": "markdown",
   "id": "2a531a26",
   "metadata": {},
   "source": [
    "### 1.6.3 Instructions 3/3\n",
    "- Create a DataFrame called `ind_state` that contains the `individuals` and `state` columns of `homelessness`, in that order.\n",
    "- Print the head of the result."
   ]
  },
  {
   "cell_type": "code",
   "execution_count": 11,
   "id": "da1a3574",
   "metadata": {},
   "outputs": [
    {
     "name": "stdout",
     "output_type": "stream",
     "text": [
      "   individuals       state\n",
      "0       2570.0     Alabama\n",
      "1       1434.0      Alaska\n",
      "2       7259.0     Arizona\n",
      "3       2280.0    Arkansas\n",
      "4     109008.0  California\n"
     ]
    }
   ],
   "source": [
    "# Select only the individuals and state columns, in that order\n",
    "ind_state = homelessness[[\"individuals\", \"state\"]]\n",
    "\n",
    "# Print the head of the result\n",
    "print(ind_state.head())"
   ]
  },
  {
   "cell_type": "markdown",
   "id": "769bb769",
   "metadata": {},
   "source": [
    "## 1.7 Subsetting rows\n",
    "A large part of data science is about finding which bits of your dataset are interesting. One of the simplest techniques for this is to find a subset of rows that match some criteria. This is sometimes known as *filtering rows* or *selecting rows*.\n",
    "\n",
    "There are many ways to subset a DataFrame, perhaps the most common is to use relational operators to return `True` or `False` for each row, then pass that inside square brackets.\n",
    "\n",
    "```python\n",
    "dogs[dogs[\"height_cm\"] > 60]\n",
    "dogs[dogs[\"color\"] == \"tan\"]\n",
    "```\n",
    "\n",
    "You can filter for multiple conditions at once by using the \"bitwise and\" operator, `&`.\n",
    "\n",
    "```python\n",
    "dogs[(dogs[\"height_cm\"] > 60) & (dogs[\"color\"] == \"tan\")]\n",
    "```\n",
    "\n",
    "`homelessness` is available and `pandas` is loaded as `pd`."
   ]
  },
  {
   "cell_type": "markdown",
   "id": "fc9fa9db",
   "metadata": {},
   "source": [
    "### 1.7.1 Instructions 1/3\n",
    "Filter `homelessness` for cases where the number of individuals is greater than ten thousand, assigning to `ind_gt_10k`. *View the printed result.*"
   ]
  },
  {
   "cell_type": "code",
   "execution_count": 12,
   "id": "36810929",
   "metadata": {},
   "outputs": [
    {
     "name": "stdout",
     "output_type": "stream",
     "text": [
      "    Unnamed: 0              region       state  individuals  family_members  \\\n",
      "4            4             Pacific  California     109008.0         20964.0   \n",
      "9            9      South Atlantic     Florida      21443.0          9587.0   \n",
      "32          32        Mid-Atlantic    New York      39827.0         52070.0   \n",
      "37          37             Pacific      Oregon      11139.0          3337.0   \n",
      "43          43  West South Central       Texas      19199.0          6111.0   \n",
      "47          47             Pacific  Washington      16424.0          5880.0   \n",
      "\n",
      "    state_pop  \n",
      "4    39461588  \n",
      "9    21244317  \n",
      "32   19530351  \n",
      "37    4181886  \n",
      "43   28628666  \n",
      "47    7523869  \n"
     ]
    }
   ],
   "source": [
    "# Filter for rows where individuals is greater than 10000\n",
    "ind_gt_10k = homelessness[homelessness[\"individuals\"] > 10000]\n",
    "\n",
    "# See the result\n",
    "print(ind_gt_10k)"
   ]
  },
  {
   "cell_type": "markdown",
   "id": "cbd717f7",
   "metadata": {},
   "source": [
    "### 1.7.2  Instructions 2/3\n",
    "Filter `homelessness` for cases where the USA Census region is `\"Mountain\"`, assigning to `mountain_reg`. *View the printed result.*"
   ]
  },
  {
   "cell_type": "code",
   "execution_count": 13,
   "id": "7ec6923b",
   "metadata": {},
   "outputs": [
    {
     "name": "stdout",
     "output_type": "stream",
     "text": [
      "    Unnamed: 0    region       state  individuals  family_members  state_pop\n",
      "2            2  Mountain     Arizona       7259.0          2606.0    7158024\n",
      "5            5  Mountain    Colorado       7607.0          3250.0    5691287\n",
      "12          12  Mountain       Idaho       1297.0           715.0    1750536\n",
      "26          26  Mountain     Montana        983.0           422.0    1060665\n",
      "28          28  Mountain      Nevada       7058.0           486.0    3027341\n",
      "31          31  Mountain  New Mexico       1949.0           602.0    2092741\n",
      "44          44  Mountain        Utah       1904.0           972.0    3153550\n",
      "50          50  Mountain     Wyoming        434.0           205.0     577601\n"
     ]
    }
   ],
   "source": [
    "# Filter for rows where region is Mountain\n",
    "mountain_reg = homelessness[homelessness[\"region\"] == \"Mountain\"]\n",
    "\n",
    "# See the result\n",
    "print(mountain_reg)"
   ]
  },
  {
   "cell_type": "markdown",
   "id": "00f54778",
   "metadata": {},
   "source": [
    "### 1.7.3 Instructions 3/3\n",
    "Filter `homelessness` for cases where the number of `family_members` is less than one thousand and the `region` is \"Pacific\", assigning to `fam_lt_1k_pac`. *View the printed result.*"
   ]
  },
  {
   "cell_type": "code",
   "execution_count": 14,
   "id": "6013538e",
   "metadata": {},
   "outputs": [
    {
     "name": "stdout",
     "output_type": "stream",
     "text": [
      "   Unnamed: 0   region   state  individuals  family_members  state_pop\n",
      "1           1  Pacific  Alaska       1434.0           582.0     735139\n"
     ]
    }
   ],
   "source": [
    "# Filter for rows where family_members is less than 1000 \n",
    "# and region is Pacific\n",
    "fam_lt_1k_pac = homelessness[(homelessness[\"family_members\"] < 1000) & (homelessness[\"region\"] == \"Pacific\")]\n",
    "\n",
    "# See the result\n",
    "print(fam_lt_1k_pac)"
   ]
  },
  {
   "cell_type": "markdown",
   "id": "32ac07d6",
   "metadata": {},
   "source": [
    "## 1.8 Subsetting rows by categorical variables\n",
    "Subsetting data based on a categorical variable often involves using the \"or\" operator (`|`) to select rows from multiple categories. This can get tedious when you want all states in one of three different regions, for example. Instead, use the `.isin()` method, which will allow you to tackle this problem by writing one condition instead of three separate ones.\n",
    "\n",
    "```python\n",
    "colors = [\"brown\", \"black\", \"tan\"]\n",
    "condition = dogs[\"color\"].isin(colors)\n",
    "dogs[condition]\n",
    "```\n",
    "\n",
    "`homelessness` is available and `pandas` is loaded as `pd`."
   ]
  },
  {
   "cell_type": "markdown",
   "id": "661bb666",
   "metadata": {},
   "source": [
    "### 1.8.1 Instructions 1/2\n",
    "Filter `homelessness` for cases where the USA census region is \"South Atlantic\" or it is \"Mid-Atlantic\", assigning to `south_mid_atlantic`. *View the printed result.*"
   ]
  },
  {
   "cell_type": "code",
   "execution_count": 15,
   "id": "f72b007f",
   "metadata": {},
   "outputs": [
    {
     "name": "stdout",
     "output_type": "stream",
     "text": [
      "    Unnamed: 0          region                 state  individuals  \\\n",
      "7            7  South Atlantic              Delaware        708.0   \n",
      "8            8  South Atlantic  District of Columbia       3770.0   \n",
      "9            9  South Atlantic               Florida      21443.0   \n",
      "10          10  South Atlantic               Georgia       6943.0   \n",
      "20          20  South Atlantic              Maryland       4914.0   \n",
      "30          30    Mid-Atlantic            New Jersey       6048.0   \n",
      "32          32    Mid-Atlantic              New York      39827.0   \n",
      "33          33  South Atlantic        North Carolina       6451.0   \n",
      "38          38    Mid-Atlantic          Pennsylvania       8163.0   \n",
      "40          40  South Atlantic        South Carolina       3082.0   \n",
      "46          46  South Atlantic              Virginia       3928.0   \n",
      "48          48  South Atlantic         West Virginia       1021.0   \n",
      "\n",
      "    family_members  state_pop  \n",
      "7            374.0     965479  \n",
      "8           3134.0     701547  \n",
      "9           9587.0   21244317  \n",
      "10          2556.0   10511131  \n",
      "20          2230.0    6035802  \n",
      "30          3350.0    8886025  \n",
      "32         52070.0   19530351  \n",
      "33          2817.0   10381615  \n",
      "38          5349.0   12800922  \n",
      "40           851.0    5084156  \n",
      "46          2047.0    8501286  \n",
      "48           222.0    1804291  \n"
     ]
    }
   ],
   "source": [
    "# Subset for rows in South Atlantic or Mid-Atlantic regions\n",
    "areas = [\"South Atlantic\", \"Mid-Atlantic\"]\n",
    "condition = homelessness[\"region\"].isin(areas)\n",
    "south_mid_atlantic = homelessness[condition]\n",
    "\n",
    "# See the result\n",
    "print(south_mid_atlantic)"
   ]
  },
  {
   "cell_type": "markdown",
   "id": "01bd0b2f",
   "metadata": {},
   "source": [
    "### 1.8.2 Instructions 2/2\n",
    "Filter `homelessness` for cases where the USA census `state` is in the list of Mojave states, `canu`, assigning to `mojave_homelessness`. *View the printed result.*"
   ]
  },
  {
   "cell_type": "code",
   "execution_count": 16,
   "id": "464055cf",
   "metadata": {},
   "outputs": [
    {
     "name": "stdout",
     "output_type": "stream",
     "text": [
      "    Unnamed: 0    region       state  individuals  family_members  state_pop\n",
      "2            2  Mountain     Arizona       7259.0          2606.0    7158024\n",
      "4            4   Pacific  California     109008.0         20964.0   39461588\n",
      "28          28  Mountain      Nevada       7058.0           486.0    3027341\n",
      "44          44  Mountain        Utah       1904.0           972.0    3153550\n"
     ]
    }
   ],
   "source": [
    "# The Mojave Desert states\n",
    "canu = [\"California\", \"Arizona\", \"Nevada\", \"Utah\"]\n",
    "\n",
    "# Filter for rows in the Mojave Desert states\n",
    "condition = homelessness[\"state\"].isin(canu)\n",
    "mojave_homelessness = homelessness[condition]\n",
    "\n",
    "# See the result\n",
    "print(mojave_homelessness)"
   ]
  },
  {
   "cell_type": "markdown",
   "id": "9aaba632",
   "metadata": {},
   "source": [
    "## 1.9 New columns"
   ]
  },
  {
   "cell_type": "markdown",
   "id": "1805c8b1",
   "metadata": {},
   "source": [
    "## 1.10 Adding new columns\n",
    "You aren't stuck with just the data you are given. Instead, you can add new columns to a DataFrame. This has many names, such as *transforming*, *mutating*, and *feature engineering*.\n",
    "\n",
    "You can create new columns from scratch, but it is also common to derive them from other columns, for example, by adding columns together or by changing their units.\n",
    "\n",
    "`homelessness` is available and `pandas` is loaded as `pd`."
   ]
  },
  {
   "cell_type": "markdown",
   "id": "7373cc87",
   "metadata": {},
   "source": [
    "### 1.10.1 Instructions\n",
    "- Add a new column to `homelessness`, named `total`, containing the sum of the `individuals` and `family_members` columns.\n",
    "- Add another column to `homelessness`, named `p_individuals`, containing the proportion of homeless people in each state who are individuals."
   ]
  },
  {
   "cell_type": "code",
   "execution_count": 17,
   "id": "5356ab3f",
   "metadata": {},
   "outputs": [
    {
     "name": "stdout",
     "output_type": "stream",
     "text": [
      "    Unnamed: 0              region                 state  individuals  \\\n",
      "0            0  East South Central               Alabama       2570.0   \n",
      "1            1             Pacific                Alaska       1434.0   \n",
      "2            2            Mountain               Arizona       7259.0   \n",
      "3            3  West South Central              Arkansas       2280.0   \n",
      "4            4             Pacific            California     109008.0   \n",
      "5            5            Mountain              Colorado       7607.0   \n",
      "6            6         New England           Connecticut       2280.0   \n",
      "7            7      South Atlantic              Delaware        708.0   \n",
      "8            8      South Atlantic  District of Columbia       3770.0   \n",
      "9            9      South Atlantic               Florida      21443.0   \n",
      "10          10      South Atlantic               Georgia       6943.0   \n",
      "11          11             Pacific                Hawaii       4131.0   \n",
      "12          12            Mountain                 Idaho       1297.0   \n",
      "13          13  East North Central              Illinois       6752.0   \n",
      "14          14  East North Central               Indiana       3776.0   \n",
      "15          15  West North Central                  Iowa       1711.0   \n",
      "16          16  West North Central                Kansas       1443.0   \n",
      "17          17  East South Central              Kentucky       2735.0   \n",
      "18          18  West South Central             Louisiana       2540.0   \n",
      "19          19         New England                 Maine       1450.0   \n",
      "20          20      South Atlantic              Maryland       4914.0   \n",
      "21          21         New England         Massachusetts       6811.0   \n",
      "22          22  East North Central              Michigan       5209.0   \n",
      "23          23  West North Central             Minnesota       3993.0   \n",
      "24          24  East South Central           Mississippi       1024.0   \n",
      "25          25  West North Central              Missouri       3776.0   \n",
      "26          26            Mountain               Montana        983.0   \n",
      "27          27  West North Central              Nebraska       1745.0   \n",
      "28          28            Mountain                Nevada       7058.0   \n",
      "29          29         New England         New Hampshire        835.0   \n",
      "30          30        Mid-Atlantic            New Jersey       6048.0   \n",
      "31          31            Mountain            New Mexico       1949.0   \n",
      "32          32        Mid-Atlantic              New York      39827.0   \n",
      "33          33      South Atlantic        North Carolina       6451.0   \n",
      "34          34  West North Central          North Dakota        467.0   \n",
      "35          35  East North Central                  Ohio       6929.0   \n",
      "36          36  West South Central              Oklahoma       2823.0   \n",
      "37          37             Pacific                Oregon      11139.0   \n",
      "38          38        Mid-Atlantic          Pennsylvania       8163.0   \n",
      "39          39         New England          Rhode Island        747.0   \n",
      "40          40      South Atlantic        South Carolina       3082.0   \n",
      "41          41  West North Central          South Dakota        836.0   \n",
      "42          42  East South Central             Tennessee       6139.0   \n",
      "43          43  West South Central                 Texas      19199.0   \n",
      "44          44            Mountain                  Utah       1904.0   \n",
      "45          45         New England               Vermont        780.0   \n",
      "46          46      South Atlantic              Virginia       3928.0   \n",
      "47          47             Pacific            Washington      16424.0   \n",
      "48          48      South Atlantic         West Virginia       1021.0   \n",
      "49          49  East North Central             Wisconsin       2740.0   \n",
      "50          50            Mountain               Wyoming        434.0   \n",
      "\n",
      "    family_members  state_pop     total  p_individuals  \n",
      "0            864.0    4887681    3434.0       0.748398  \n",
      "1            582.0     735139    2016.0       0.711310  \n",
      "2           2606.0    7158024    9865.0       0.735834  \n",
      "3            432.0    3009733    2712.0       0.840708  \n",
      "4          20964.0   39461588  129972.0       0.838704  \n",
      "5           3250.0    5691287   10857.0       0.700654  \n",
      "6           1696.0    3571520    3976.0       0.573441  \n",
      "7            374.0     965479    1082.0       0.654344  \n",
      "8           3134.0     701547    6904.0       0.546060  \n",
      "9           9587.0   21244317   31030.0       0.691041  \n",
      "10          2556.0   10511131    9499.0       0.730919  \n",
      "11          2399.0    1420593    6530.0       0.632619  \n",
      "12           715.0    1750536    2012.0       0.644632  \n",
      "13          3891.0   12723071   10643.0       0.634408  \n",
      "14          1482.0    6695497    5258.0       0.718144  \n",
      "15          1038.0    3148618    2749.0       0.622408  \n",
      "16           773.0    2911359    2216.0       0.651173  \n",
      "17           953.0    4461153    3688.0       0.741594  \n",
      "18           519.0    4659690    3059.0       0.830337  \n",
      "19          1066.0    1339057    2516.0       0.576312  \n",
      "20          2230.0    6035802    7144.0       0.687850  \n",
      "21         13257.0    6882635   20068.0       0.339396  \n",
      "22          3142.0    9984072    8351.0       0.623758  \n",
      "23          3250.0    5606249    7243.0       0.551291  \n",
      "24           328.0    2981020    1352.0       0.757396  \n",
      "25          2107.0    6121623    5883.0       0.641849  \n",
      "26           422.0    1060665    1405.0       0.699644  \n",
      "27           676.0    1925614    2421.0       0.720777  \n",
      "28           486.0    3027341    7544.0       0.935578  \n",
      "29           615.0    1353465    1450.0       0.575862  \n",
      "30          3350.0    8886025    9398.0       0.643541  \n",
      "31           602.0    2092741    2551.0       0.764014  \n",
      "32         52070.0   19530351   91897.0       0.433387  \n",
      "33          2817.0   10381615    9268.0       0.696051  \n",
      "34            75.0     758080     542.0       0.861624  \n",
      "35          3320.0   11676341   10249.0       0.676066  \n",
      "36          1048.0    3940235    3871.0       0.729269  \n",
      "37          3337.0    4181886   14476.0       0.769481  \n",
      "38          5349.0   12800922   13512.0       0.604130  \n",
      "39           354.0    1058287    1101.0       0.678474  \n",
      "40           851.0    5084156    3933.0       0.783626  \n",
      "41           323.0     878698    1159.0       0.721311  \n",
      "42          1744.0    6771631    7883.0       0.778764  \n",
      "43          6111.0   28628666   25310.0       0.758554  \n",
      "44           972.0    3153550    2876.0       0.662031  \n",
      "45           511.0     624358    1291.0       0.604183  \n",
      "46          2047.0    8501286    5975.0       0.657406  \n",
      "47          5880.0    7523869   22304.0       0.736370  \n",
      "48           222.0    1804291    1243.0       0.821400  \n",
      "49          2167.0    5807406    4907.0       0.558386  \n",
      "50           205.0     577601     639.0       0.679186  \n"
     ]
    }
   ],
   "source": [
    "# Add total col as sum of individuals and family_members\n",
    "homelessness[\"total\"] = homelessness[\"individuals\"] + homelessness[\"family_members\"]\n",
    "\n",
    "# Add p_individuals col as proportion of total that are individuals\n",
    "homelessness[\"p_individuals\"] = homelessness[\"individuals\"] / homelessness[\"total\"]\n",
    "\n",
    "# See the result\n",
    "print(homelessness)"
   ]
  },
  {
   "cell_type": "markdown",
   "id": "e656a435",
   "metadata": {},
   "source": [
    "## 1.11 Combo-attack!\n",
    "You've seen the four most common types of data manipulation: sorting rows, subsetting columns, subsetting rows, and adding new columns. In a real-life data analysis, you can mix and match these four manipulations to answer a multitude of questions.\n",
    "\n",
    "In this exercise, you'll answer the question, \"Which state has the highest number of homeless individuals per 10,000 people in the state?\" Combine your new `pandas` skills to find out."
   ]
  },
  {
   "cell_type": "markdown",
   "id": "7e58e095",
   "metadata": {},
   "source": [
    "### 1.11.1 Instructions\n",
    "- Add a column to `homelessness`, `indiv_per_10k`, containing the number of homeless individuals per ten thousand people in each state.\n",
    "- Subset rows where `indiv_per_10k` is higher than `20`, assigning to `high_homelessness`.\n",
    "- Sort `high_homelessness` by descending `indiv_per_10k`, assigning to `high_homelessness_srt`.\n",
    "- Select only the `state` and `indiv_per_10k` columns of `high_homelessness_srt` and save as `result`. *Look at the `result`.*"
   ]
  },
  {
   "cell_type": "code",
   "execution_count": 18,
   "id": "f29ea016",
   "metadata": {},
   "outputs": [
    {
     "name": "stdout",
     "output_type": "stream",
     "text": [
      "                   state  indiv_per_10k\n",
      "8   District of Columbia      53.738381\n",
      "11                Hawaii      29.079406\n",
      "4             California      27.623825\n",
      "37                Oregon      26.636307\n",
      "28                Nevada      23.314189\n",
      "47            Washington      21.829195\n",
      "32              New York      20.392363\n"
     ]
    }
   ],
   "source": [
    "# Create indiv_per_10k col as homeless individuals per 10k state pop\n",
    "homelessness[\"indiv_per_10k\"] = 10000 * homelessness[\"individuals\"] / homelessness[\"state_pop\"]\n",
    "\n",
    "# Subset rows for indiv_per_10k greater than 20\n",
    "high_homelessness = homelessness[homelessness[\"indiv_per_10k\"] > 20]\n",
    "\n",
    "# Sort high_homelessness by descending indiv_per_10k\n",
    "high_homelessness_srt = high_homelessness.sort_values(\"indiv_per_10k\", ascending = False)\n",
    "\n",
    "# From high_homelessness_srt, select the state and indiv_per_10k cols\n",
    "result = high_homelessness_srt[[\"state\", \"indiv_per_10k\"]]\n",
    "\n",
    "# See the result\n",
    "print(result)"
   ]
  },
  {
   "cell_type": "markdown",
   "id": "515c02a8",
   "metadata": {},
   "source": [
    "# 2 Aggregating DataFrames\n",
    "In this chapter, you’ll calculate summary statistics on DataFrame columns, and master grouped summary statistics and pivot tables."
   ]
  },
  {
   "cell_type": "markdown",
   "id": "71965c41",
   "metadata": {},
   "source": [
    "## 2.1 Summary statistics"
   ]
  },
  {
   "cell_type": "markdown",
   "id": "1a16984d",
   "metadata": {},
   "source": [
    "## 2.2 Mean and median\n",
    "Summary statistics are exactly what they sound like - they summarize many numbers in one statistic. For example, mean, median, minimum, maximum, and standard deviation are summary statistics. Calculating summary statistics allows you to get a better sense of your data, even if there's a lot of it.\n",
    "\n",
    "`sales` is available and `pandas` is loaded as `pd`."
   ]
  },
  {
   "cell_type": "markdown",
   "id": "05e1dcf7",
   "metadata": {},
   "source": [
    "### 2.2.1 Instructions\n",
    "- Explore your new DataFrame first by printing the first few rows of the `sales` DataFrame.\n",
    "- Print information about the columns in `sales`.\n",
    "- Print the mean of the `weekly_sales` column.\n",
    "- Print the median of the `weekly_sales` column."
   ]
  },
  {
   "cell_type": "code",
   "execution_count": 19,
   "id": "2d5b212b",
   "metadata": {},
   "outputs": [
    {
     "name": "stdout",
     "output_type": "stream",
     "text": [
      "   store type  department        date  weekly_sales  is_holiday  \\\n",
      "0      1    A           1  2010-02-05      24924.50       False   \n",
      "1      1    A           1  2010-03-05      21827.90       False   \n",
      "2      1    A           1  2010-04-02      57258.43       False   \n",
      "3      1    A           1  2010-05-07      17413.94       False   \n",
      "4      1    A           1  2010-06-04      17558.09       False   \n",
      "\n",
      "   temperature_c  fuel_price_usd_per_l  unemployment  \n",
      "0       5.727778              0.679451         8.106  \n",
      "1       8.055556              0.693452         8.106  \n",
      "2      16.816667              0.718284         7.808  \n",
      "3      22.527778              0.748928         7.808  \n",
      "4      27.050000              0.714586         7.808  \n",
      "<class 'pandas.core.frame.DataFrame'>\n",
      "Int64Index: 10774 entries, 0 to 10773\n",
      "Data columns (total 9 columns):\n",
      " #   Column                Non-Null Count  Dtype  \n",
      "---  ------                --------------  -----  \n",
      " 0   store                 10774 non-null  int64  \n",
      " 1   type                  10774 non-null  object \n",
      " 2   department            10774 non-null  int64  \n",
      " 3   date                  10774 non-null  object \n",
      " 4   weekly_sales          10774 non-null  float64\n",
      " 5   is_holiday            10774 non-null  bool   \n",
      " 6   temperature_c         10774 non-null  float64\n",
      " 7   fuel_price_usd_per_l  10774 non-null  float64\n",
      " 8   unemployment          10774 non-null  float64\n",
      "dtypes: bool(1), float64(4), int64(2), object(2)\n",
      "memory usage: 768.1+ KB\n",
      "None\n",
      "23843.950148505668\n",
      "12049.064999999999\n"
     ]
    }
   ],
   "source": [
    "sales = pd.read_csv('datasets/sales_subset.csv', index_col = 0)\n",
    "\n",
    "# Print the head of the sales DataFrame\n",
    "print(sales.head())\n",
    "\n",
    "# Print the info about the sales DataFrame\n",
    "print(sales.info())\n",
    "\n",
    "# Print the mean of weekly_sales\n",
    "print(sales[\"weekly_sales\"].mean())\n",
    "\n",
    "# Print the median of weekly_sales\n",
    "print(sales[\"weekly_sales\"].median())"
   ]
  },
  {
   "cell_type": "markdown",
   "id": "d75051df",
   "metadata": {},
   "source": [
    "## 2.3 Summarizing dates\n",
    "Summary statistics can also be calculated on date columns that have values with the data type `datetime64`. Some summary statistics — like mean — don't make a ton of sense on dates, but others are super helpful, for example, minimum and maximum, which allow you to see what time range your data covers.\n",
    "\n",
    "`sales` is available and `pandas` is loaded as `pd`."
   ]
  },
  {
   "cell_type": "markdown",
   "id": "9ac531f6",
   "metadata": {},
   "source": [
    "### 2.3.1 Instructions\n",
    "- Print the maximum of the `date` column.\n",
    "- Print the minimum of the `date` column."
   ]
  },
  {
   "cell_type": "code",
   "execution_count": 20,
   "id": "1fd41cd1",
   "metadata": {},
   "outputs": [
    {
     "name": "stdout",
     "output_type": "stream",
     "text": [
      "2012-10-26\n",
      "2010-02-05\n"
     ]
    }
   ],
   "source": [
    "# Print the maximum of the date column\n",
    "print(sales[\"date\"].max())\n",
    "\n",
    "# Print the minimum of the date column\n",
    "print(sales[\"date\"].min())"
   ]
  },
  {
   "cell_type": "markdown",
   "id": "89060389",
   "metadata": {},
   "source": [
    "## 2.4 Efficient summaries\n",
    "While pandas and NumPy have tons of functions, sometimes, you may need a different function to summarize your data.\n",
    "\n",
    "The `.agg()` method allows you to apply your own custom functions to a DataFrame, as well as apply functions to more than one column of a DataFrame at once, making your aggregations super-efficient. For example,\n",
    "\n",
    "```python\n",
    "df['column'].agg(function)\n",
    "```\n",
    "\n",
    "In the custom function for this exercise, \"IQR\" is short for inter-quartile range, which is the 75th percentile minus the 25th percentile. It's an alternative to standard deviation that is helpful if your data contains outliers.\n",
    "\n",
    "`sales` is available and `pandas` is loaded as `pd`."
   ]
  },
  {
   "cell_type": "markdown",
   "id": "09a62d88",
   "metadata": {},
   "source": [
    "### 2.4.1 Instructions 1/3\n",
    "- Use the custom `iqr` function defined for you along with `.agg()` to print the IQR of the `temperature_c` column of `sales`."
   ]
  },
  {
   "cell_type": "code",
   "execution_count": 21,
   "id": "c9a47019",
   "metadata": {},
   "outputs": [
    {
     "name": "stdout",
     "output_type": "stream",
     "text": [
      "16.583333333333336\n"
     ]
    }
   ],
   "source": [
    "# A custom IQR function\n",
    "def iqr(column):\n",
    "    return column.quantile(0.75) - column.quantile(0.25)\n",
    "    \n",
    "# Print IQR of the temperature_c column\n",
    "print(sales[\"temperature_c\"].agg(iqr))"
   ]
  },
  {
   "cell_type": "markdown",
   "id": "d8565d4d",
   "metadata": {},
   "source": [
    "### 2.4.2 Instructions 2/3\n",
    "- Update the column selection to use the custom `iqr` function with `.agg()` to print the IQR of `temperature_c`, `fuel_price_usd_per_l`, and `unemployment`, in that order."
   ]
  },
  {
   "cell_type": "code",
   "execution_count": 22,
   "id": "2840491e",
   "metadata": {},
   "outputs": [
    {
     "name": "stdout",
     "output_type": "stream",
     "text": [
      "temperature_c           16.583333\n",
      "fuel_price_usd_per_l     0.073176\n",
      "unemployment             0.565000\n",
      "dtype: float64\n"
     ]
    }
   ],
   "source": [
    "# A custom IQR function\n",
    "def iqr(column):\n",
    "    return column.quantile(0.75) - column.quantile(0.25)\n",
    "\n",
    "# Update to print IQR of temperature_c, fuel_price_usd_per_l, & unemployment\n",
    "print(sales[[\"temperature_c\", \"fuel_price_usd_per_l\", \"unemployment\"]].agg(iqr))"
   ]
  },
  {
   "cell_type": "markdown",
   "id": "c270b5fd",
   "metadata": {},
   "source": [
    "### 2.4.3 Instructions 3/3\n",
    "- Update the aggregation functions called by `.agg()`: include `iqr` and `np.median` in that order."
   ]
  },
  {
   "cell_type": "code",
   "execution_count": 23,
   "id": "814ca6ed",
   "metadata": {},
   "outputs": [
    {
     "name": "stdout",
     "output_type": "stream",
     "text": [
      "        temperature_c  fuel_price_usd_per_l  unemployment\n",
      "iqr         16.583333              0.073176         0.565\n",
      "median      16.966667              0.743381         8.099\n"
     ]
    }
   ],
   "source": [
    "# Import NumPy and create custom IQR function\n",
    "import numpy as np\n",
    "def iqr(column):\n",
    "    return column.quantile(0.75) - column.quantile(0.25)\n",
    "\n",
    "# Update to print IQR and median of temperature_c, fuel_price_usd_per_l, & unemployment\n",
    "print(sales[[\"temperature_c\", \"fuel_price_usd_per_l\", \"unemployment\"]].agg([iqr, np.median]))"
   ]
  },
  {
   "cell_type": "markdown",
   "id": "0d255b17",
   "metadata": {},
   "source": [
    "## 2.5 Cumulative statistics\n",
    "Cumulative statistics can also be helpful in tracking summary statistics over time. In this exercise, you'll calculate the cumulative sum and cumulative max of a department's weekly sales, which will allow you to identify what the total sales were so far as well as what the highest weekly sales were so far.\n",
    "\n",
    "A DataFrame called `sales_1_1` has been created for you, which contains the sales data for department 1 of store 1. `pandas` is loaded as `pd`."
   ]
  },
  {
   "cell_type": "code",
   "execution_count": 24,
   "id": "557d0559",
   "metadata": {},
   "outputs": [],
   "source": [
    "sales_1_1 = sales[(sales[\"department\"] == 1) & (sales[\"store\"] == 1)]"
   ]
  },
  {
   "cell_type": "markdown",
   "id": "1b89fcda",
   "metadata": {},
   "source": [
    "### 2.5.1 Instructions\n",
    "- Sort the rows of `sales_1_1` by the `date` column in ascending order.\n",
    "- Get the cumulative sum of `weekly_sales` and add it as a new column of `sales_1_1` called `cum_weekly_sales`.\n",
    "- Get the cumulative maximum of `weekly_sales`, and add it as a column called `cum_max_sales`.\n",
    "- Print the `date`, `weekly_sales`, `cum_weekly_sales`, and `cum_max_sales` columns."
   ]
  },
  {
   "cell_type": "code",
   "execution_count": 25,
   "id": "de24de2d",
   "metadata": {},
   "outputs": [
    {
     "name": "stdout",
     "output_type": "stream",
     "text": [
      "          date  weekly_sales  cum_weekly_sales  cum_max_sales\n",
      "0   2010-02-05      24924.50          24924.50       24924.50\n",
      "1   2010-03-05      21827.90          46752.40       24924.50\n",
      "2   2010-04-02      57258.43         104010.83       57258.43\n",
      "3   2010-05-07      17413.94         121424.77       57258.43\n",
      "4   2010-06-04      17558.09         138982.86       57258.43\n",
      "5   2010-07-02      16333.14         155316.00       57258.43\n",
      "6   2010-08-06      17508.41         172824.41       57258.43\n",
      "7   2010-09-03      16241.78         189066.19       57258.43\n",
      "8   2010-10-01      20094.19         209160.38       57258.43\n",
      "9   2010-11-05      34238.88         243399.26       57258.43\n",
      "10  2010-12-03      22517.56         265916.82       57258.43\n",
      "11  2011-01-07      15984.24         281901.06       57258.43\n"
     ]
    }
   ],
   "source": [
    "# Sort sales_1_1 by date\n",
    "sales_1_1 = sales_1_1.sort_values(\"date\")\n",
    "\n",
    "# Get the cumulative sum of weekly_sales, add as cum_weekly_sales col\n",
    "sales_1_1[\"cum_weekly_sales\"] = sales_1_1[\"weekly_sales\"].cumsum()\n",
    "\n",
    "# Get the cumulative max of weekly_sales, add as cum_max_sales col\n",
    "sales_1_1[\"cum_max_sales\"] = sales_1_1[\"weekly_sales\"].cummax()\n",
    "\n",
    "# See the columns you calculated\n",
    "print(sales_1_1[[\"date\", \"weekly_sales\", \"cum_weekly_sales\", \"cum_max_sales\"]])"
   ]
  },
  {
   "cell_type": "markdown",
   "id": "24514e10",
   "metadata": {},
   "source": [
    "## 2.6 Counting"
   ]
  },
  {
   "cell_type": "markdown",
   "id": "08be3620",
   "metadata": {},
   "source": [
    "## 2.7 Dropping duplicates\n",
    "Removing duplicates is an essential skill to get accurate counts because often, you don't want to count the same thing multiple times. In this exercise, you'll create some new DataFrames using unique values from `sales`.\n",
    "\n",
    "`sales` is available and `pandas` is imported as `pd`."
   ]
  },
  {
   "cell_type": "markdown",
   "id": "0e011005",
   "metadata": {},
   "source": [
    "### 2.7.1 Instructions\n",
    "- Remove rows of `sales` with duplicate pairs of `store` and `type` and save as `store_types` and print the head.\n",
    "- Remove rows of `sales` with duplicate pairs of `store` and `department` and save as `store_depts` and print the head.\n",
    "- Subset the rows that are holiday weeks using the `is_holiday` column, and drop the duplicate `date`s, saving as `holiday_dates`.\n",
    "- Select the `date` column of `holiday_dates`, and print."
   ]
  },
  {
   "cell_type": "code",
   "execution_count": 26,
   "id": "e7a3d931",
   "metadata": {},
   "outputs": [
    {
     "name": "stdout",
     "output_type": "stream",
     "text": [
      "      store type  department        date  weekly_sales  is_holiday  \\\n",
      "0         1    A           1  2010-02-05      24924.50       False   \n",
      "901       2    A           1  2010-02-05      35034.06       False   \n",
      "1798      4    A           1  2010-02-05      38724.42       False   \n",
      "2699      6    A           1  2010-02-05      25619.00       False   \n",
      "3593     10    B           1  2010-02-05      40212.84       False   \n",
      "\n",
      "      temperature_c  fuel_price_usd_per_l  unemployment  \n",
      "0          5.727778              0.679451         8.106  \n",
      "901        4.550000              0.679451         8.324  \n",
      "1798       6.533333              0.686319         8.623  \n",
      "2699       4.683333              0.679451         7.259  \n",
      "3593      12.411111              0.782478         9.765  \n",
      "    store type  department        date  weekly_sales  is_holiday  \\\n",
      "0       1    A           1  2010-02-05      24924.50       False   \n",
      "12      1    A           2  2010-02-05      50605.27       False   \n",
      "24      1    A           3  2010-02-05      13740.12       False   \n",
      "36      1    A           4  2010-02-05      39954.04       False   \n",
      "48      1    A           5  2010-02-05      32229.38       False   \n",
      "\n",
      "    temperature_c  fuel_price_usd_per_l  unemployment  \n",
      "0        5.727778              0.679451         8.106  \n",
      "12       5.727778              0.679451         8.106  \n",
      "24       5.727778              0.679451         8.106  \n",
      "36       5.727778              0.679451         8.106  \n",
      "48       5.727778              0.679451         8.106  \n",
      "498     2010-09-10\n",
      "691     2011-11-25\n",
      "2315    2010-02-12\n",
      "6735    2012-09-07\n",
      "6810    2010-12-31\n",
      "6815    2012-02-10\n",
      "6820    2011-09-09\n",
      "Name: date, dtype: object\n"
     ]
    }
   ],
   "source": [
    "# Drop duplicate store/type combinations\n",
    "store_types = sales.drop_duplicates(subset = [\"store\", \"type\"])\n",
    "print(store_types.head())\n",
    "\n",
    "# Drop duplicate store/department combinations\n",
    "store_depts = sales.drop_duplicates(subset = [\"store\", \"department\"])\n",
    "print(store_depts.head())\n",
    "\n",
    "# Subset the rows where is_holiday is True and drop duplicate dates\n",
    "holiday_dates = sales[sales[\"is_holiday\"]].drop_duplicates(subset = [\"date\"])\n",
    "\n",
    "# Print date col of holiday_dates\n",
    "print(holiday_dates[\"date\"])"
   ]
  },
  {
   "cell_type": "markdown",
   "id": "ed913f16",
   "metadata": {},
   "source": [
    "## 2.8 Counting categorical variables\n",
    "Counting is a great way to get an overview of your data and to spot curiosities that you might not notice otherwise. In this exercise, you'll count the number of each type of store and the number of each department number using the DataFrames you created in the previous exercise:\n",
    "\n",
    "```python\n",
    "# Drop duplicate store/type combinations\n",
    "store_types = sales.drop_duplicates(subset=[\"store\", \"type\"])\n",
    "\n",
    "# Drop duplicate store/department combinations\n",
    "store_depts = sales.drop_duplicates(subset=[\"store\", \"department\"])\n",
    "```\n",
    "\n",
    "The `store_types` and `store_depts` DataFrames you created in the last exercise are available, and `pandas` is imported as `pd`."
   ]
  },
  {
   "cell_type": "markdown",
   "id": "58a86881",
   "metadata": {},
   "source": [
    "### 2.8.1 Instructions\n",
    "- Count the number of stores of each store `type` in `store_types`.\n",
    "- Count the proportion of stores of each store `type` in `store_types`.\n",
    "- Count the number of different `department`s in `store_depts`, sorting the counts in descending order.\n",
    "- Count the proportion of different `department`s in `store_depts`, sorting the proportions in descending order."
   ]
  },
  {
   "cell_type": "code",
   "execution_count": 27,
   "id": "10ff140c",
   "metadata": {},
   "outputs": [
    {
     "name": "stdout",
     "output_type": "stream",
     "text": [
      "A    11\n",
      "B     1\n",
      "Name: type, dtype: int64\n",
      "A    0.916667\n",
      "B    0.083333\n",
      "Name: type, dtype: float64\n",
      "1     12\n",
      "55    12\n",
      "72    12\n",
      "71    12\n",
      "67    12\n",
      "      ..\n",
      "37    10\n",
      "48     8\n",
      "50     6\n",
      "39     4\n",
      "43     2\n",
      "Name: department, Length: 80, dtype: int64\n",
      "1     0.012917\n",
      "55    0.012917\n",
      "72    0.012917\n",
      "71    0.012917\n",
      "67    0.012917\n",
      "        ...   \n",
      "37    0.010764\n",
      "48    0.008611\n",
      "50    0.006459\n",
      "39    0.004306\n",
      "43    0.002153\n",
      "Name: department, Length: 80, dtype: float64\n"
     ]
    }
   ],
   "source": [
    "# Count the number of stores of each type\n",
    "store_counts = store_types[\"type\"].value_counts()\n",
    "print(store_counts)\n",
    "\n",
    "# Get the proportion of stores of each type\n",
    "store_props = store_types[\"type\"].value_counts(normalize = True)\n",
    "print(store_props)\n",
    "\n",
    "# Count the number of each department number and sort\n",
    "dept_counts_sorted = store_depts[\"department\"].value_counts(sort = True)\n",
    "print(dept_counts_sorted)\n",
    "\n",
    "# Get the proportion of departments of each number and sort\n",
    "dept_props_sorted = store_depts[\"department\"].value_counts(sort = True, normalize = True)\n",
    "print(dept_props_sorted)"
   ]
  },
  {
   "cell_type": "markdown",
   "id": "3696c774",
   "metadata": {},
   "source": [
    "## 2.9 Grouped summary statistics"
   ]
  },
  {
   "cell_type": "markdown",
   "id": "7e62b50c",
   "metadata": {},
   "source": [
    "## 2.10 What percent of sales occurred at each store type?\n",
    "While `.groupby()` is useful, you can calculate grouped summary statistics without it.\n",
    "\n",
    "Walmart distinguishes three types of stores: \"supercenters,\" \"discount stores,\" and \"neighborhood markets,\" encoded in this dataset as type \"A,\" \"B,\" and \"C.\" In this exercise, you'll calculate the total sales made at each store type, without using `.groupby()`. You can then use these numbers to see what proportion of Walmart's total sales were made at each type.\n",
    "\n",
    "`sales` is available and `pandas` is imported as `pd`."
   ]
  },
  {
   "cell_type": "markdown",
   "id": "62657ba7",
   "metadata": {},
   "source": [
    "### 2.10.1 Instructions\n",
    "- Calculate the total `weekly_sales` over the whole dataset.\n",
    "- Subset for `type` `\"A\"` stores, and calculate their total weekly sales.\n",
    "- Do the same for `type` `\"B\"` and `type` `\"C\"` stores.\n",
    "- Combine the A/B/C results into a list, and divide by `sales_all` to get the proportion of sales by type."
   ]
  },
  {
   "cell_type": "code",
   "execution_count": 28,
   "id": "0f24ca3d",
   "metadata": {},
   "outputs": [
    {
     "name": "stdout",
     "output_type": "stream",
     "text": [
      "[0.9097747 0.0902253 0.       ]\n"
     ]
    }
   ],
   "source": [
    "# Calc total weekly sales\n",
    "sales_all = sales[\"weekly_sales\"].sum()\n",
    "\n",
    "# Subset for type A stores, calc total weekly sales\n",
    "sales_A = sales[sales[\"type\"] == \"A\"][\"weekly_sales\"].sum()\n",
    "\n",
    "# Subset for type B stores, calc total weekly sales\n",
    "sales_B = sales[sales[\"type\"] == \"B\"][\"weekly_sales\"].sum()\n",
    "\n",
    "# Subset for type C stores, calc total weekly sales\n",
    "sales_C = sales[sales[\"type\"] == \"C\"][\"weekly_sales\"].sum()\n",
    "\n",
    "# Get proportion for each type\n",
    "sales_propn_by_type = [sales_A, sales_B, sales_C] / sales_all\n",
    "print(sales_propn_by_type)"
   ]
  },
  {
   "cell_type": "markdown",
   "id": "eaec10f4",
   "metadata": {},
   "source": [
    "## 2.11 Calculations with .groupby()\n",
    "The `.groupby()` method makes life much easier. In this exercise, you'll perform the same calculations as last time, except you'll use the `.groupby()` method. You'll also perform calculations on data grouped by two variables to see if sales differ by store type depending on if it's a holiday week or not.\n",
    "\n",
    "`sales` is available and `pandas` is loaded as `pd`."
   ]
  },
  {
   "cell_type": "markdown",
   "id": "d75435b5",
   "metadata": {},
   "source": [
    "### 2.11.1 Instructions 1/2\n",
    "- Group `sales` by `\"type\"`, take the sum of `\"weekly_sales\"`, and store as `sales_by_type`.\n",
    "- Calculate the proportion of sales at each store type by dividing by the sum of `sales_by_type`. Assign to `sales_propn_by_type`."
   ]
  },
  {
   "cell_type": "code",
   "execution_count": 29,
   "id": "86d6365d",
   "metadata": {},
   "outputs": [
    {
     "name": "stdout",
     "output_type": "stream",
     "text": [
      "type\n",
      "A    0.909775\n",
      "B    0.090225\n",
      "Name: weekly_sales, dtype: float64\n"
     ]
    }
   ],
   "source": [
    "# Group by type; calc total weekly sales\n",
    "sales_by_type = sales.groupby(\"type\")[\"weekly_sales\"].sum()\n",
    "\n",
    "# Get proportion for each type\n",
    "sales_propn_by_type = sales_by_type / sum(sales.weekly_sales)\n",
    "print(sales_propn_by_type)"
   ]
  },
  {
   "cell_type": "markdown",
   "id": "9a384bee",
   "metadata": {},
   "source": [
    "### 2.11.2 Instructions 2/2\n",
    "- Group `sales` by `\"type\"` and \"`is_holiday`\", take the sum of `weekly_sales`, and store as `sales_by_type_is_holiday`."
   ]
  },
  {
   "cell_type": "code",
   "execution_count": 30,
   "id": "fd06eddf",
   "metadata": {},
   "outputs": [
    {
     "name": "stdout",
     "output_type": "stream",
     "text": [
      "type  is_holiday\n",
      "A     False         2.336927e+08\n",
      "      True          2.360181e+04\n",
      "B     False         2.317678e+07\n",
      "      True          1.621410e+03\n",
      "Name: weekly_sales, dtype: float64\n"
     ]
    }
   ],
   "source": [
    "# From previous step\n",
    "sales_by_type = sales.groupby(\"type\")[\"weekly_sales\"].sum()\n",
    "\n",
    "# Group by type and is_holiday; calc total weekly sales\n",
    "sales_by_type_is_holiday = sales.groupby([\"type\", \"is_holiday\"])[\"weekly_sales\"].sum()\n",
    "print(sales_by_type_is_holiday)"
   ]
  },
  {
   "cell_type": "markdown",
   "id": "d4549317",
   "metadata": {},
   "source": [
    "## 2.12 Multiple grouped summaries\n",
    "Earlier in this chapter, you saw that the `.agg()` method is useful to compute multiple statistics on multiple variables. It also works with grouped data. NumPy, which is imported as `np`, has many different summary statistics functions, including: `np.min`, `np.max`, `np.mean`, and `np.median`.\n",
    "\n",
    "`sales` is available and `pandas` is imported as `pd`."
   ]
  },
  {
   "cell_type": "markdown",
   "id": "3c8f882a",
   "metadata": {},
   "source": [
    "### 2.12.1 Instructions\n",
    "- Import `numpy` with the alias `np`.\n",
    "- Get the min, max, mean, and median of `weekly_sales` for each store type using `.groupby()` and `.agg()`. Store this as `sales_stats`. Make sure to use `numpy` functions!\n",
    "- Get the min, max, mean, and median of `unemployment` and `fuel_price_usd_per_l` for each store type. Store this as `unemp_fuel_stats`."
   ]
  },
  {
   "cell_type": "code",
   "execution_count": 31,
   "id": "843d5d0f",
   "metadata": {},
   "outputs": [
    {
     "name": "stdout",
     "output_type": "stream",
     "text": [
      "        amin       amax          mean    median\n",
      "type                                           \n",
      "A    -1098.0  293966.05  23674.667242  11943.92\n",
      "B     -798.0  232558.51  25696.678370  13336.08\n",
      "     unemployment                         fuel_price_usd_per_l            \\\n",
      "             amin   amax      mean median                 amin      amax   \n",
      "type                                                                       \n",
      "A           3.879  8.992  7.972611  8.067             0.664129  1.107410   \n",
      "B           7.170  9.765  9.279323  9.199             0.760023  1.107674   \n",
      "\n",
      "                          \n",
      "          mean    median  \n",
      "type                      \n",
      "A     0.744619  0.735455  \n",
      "B     0.805858  0.803348  \n"
     ]
    }
   ],
   "source": [
    "# Import numpy with the alias np\n",
    "import numpy as np\n",
    "\n",
    "# For each store type, aggregate weekly_sales: get min, max, mean, and median\n",
    "sales_stats = sales.groupby(\"type\")[\"weekly_sales\"].agg([np.min, np.max, np.mean, np.median])\n",
    "\n",
    "# Print sales_stats\n",
    "print(sales_stats)\n",
    "\n",
    "# For each store type, aggregate unemployment and fuel_price_usd_per_l: get min, max, mean, and median\n",
    "unemp_fuel_stats = sales.groupby(\"type\")[[\"unemployment\", \"fuel_price_usd_per_l\"]].agg([np.min, np.max, np.mean, np.median])\n",
    "\n",
    "# Print unemp_fuel_stats\n",
    "print(unemp_fuel_stats)"
   ]
  },
  {
   "cell_type": "markdown",
   "id": "68ade7c1",
   "metadata": {},
   "source": [
    "## 2.13 Pivot tables"
   ]
  },
  {
   "cell_type": "markdown",
   "id": "9dee259f",
   "metadata": {},
   "source": [
    "## 2.14 Pivoting on one variable\n",
    "Pivot tables are the standard way of aggregating data in spreadsheets. In pandas, pivot tables are essentially just another way of performing grouped calculations. That is, the `.pivot_table()` method is just an alternative to `.groupby()`.\n",
    "\n",
    "In this exercise, you'll perform calculations using `.pivot_table()` to replicate the calculations you performed in the last lesson using `.groupby()`.\n",
    "\n",
    "`sales` is available and `pandas` is imported as `pd`."
   ]
  },
  {
   "cell_type": "markdown",
   "id": "c3d3193f",
   "metadata": {},
   "source": [
    "### 2.14.1 Instructions 1/3\n",
    "- Get the mean `weekly_sales` by `type` using `.pivot_table()` and store as `mean_sales_by_type`."
   ]
  },
  {
   "cell_type": "code",
   "execution_count": 32,
   "id": "121330ab",
   "metadata": {},
   "outputs": [
    {
     "name": "stdout",
     "output_type": "stream",
     "text": [
      "      weekly_sales\n",
      "type              \n",
      "A     23674.667242\n",
      "B     25696.678370\n"
     ]
    }
   ],
   "source": [
    "# Pivot for mean weekly_sales for each store type\n",
    "mean_sales_by_type = sales.pivot_table(values = \"weekly_sales\", index = \"type\")\n",
    "\n",
    "# Print mean_sales_by_type\n",
    "print(mean_sales_by_type)"
   ]
  },
  {
   "cell_type": "markdown",
   "id": "44682603",
   "metadata": {},
   "source": [
    "### 2.14.2 Instructions 2/3\n",
    "- Get the mean and median (using NumPy functions) of `weekly_sales` by `type` using `.pivot_table()` and store as `mean_med_sales_by_type`."
   ]
  },
  {
   "cell_type": "code",
   "execution_count": 33,
   "id": "bcdbe671",
   "metadata": {},
   "outputs": [
    {
     "name": "stdout",
     "output_type": "stream",
     "text": [
      "              mean       median\n",
      "      weekly_sales weekly_sales\n",
      "type                           \n",
      "A     23674.667242     11943.92\n",
      "B     25696.678370     13336.08\n"
     ]
    }
   ],
   "source": [
    "# Import NumPy as np\n",
    "# import numpy as np\n",
    "\n",
    "# Pivot for mean and median weekly_sales for each store type\n",
    "mean_med_sales_by_type = sales.pivot_table(values = \"weekly_sales\", index = \"type\", aggfunc = [np.mean, np.median])\n",
    "\n",
    "# Print mean_med_sales_by_type\n",
    "print(mean_med_sales_by_type)"
   ]
  },
  {
   "cell_type": "markdown",
   "id": "78b6f550",
   "metadata": {},
   "source": [
    "### 2.14.3 Instructions 3/3\n",
    "- Get the mean of `weekly_sales` by `type` and `is_holiday` using `.pivot_table()` and store as `mean_sales_by_type_holiday`."
   ]
  },
  {
   "cell_type": "code",
   "execution_count": 34,
   "id": "7753e531",
   "metadata": {},
   "outputs": [
    {
     "name": "stdout",
     "output_type": "stream",
     "text": [
      "is_holiday         False       True\n",
      "type                               \n",
      "A           23768.583523  590.04525\n",
      "B           25751.980533  810.70500\n"
     ]
    }
   ],
   "source": [
    "# Pivot for mean weekly_sales by store type and holiday \n",
    "mean_sales_by_type_holiday = sales.pivot_table(values = \"weekly_sales\", index = \"type\", columns = \"is_holiday\")\n",
    "\n",
    "# Print mean_sales_by_type_holiday\n",
    "print(mean_sales_by_type_holiday)"
   ]
  },
  {
   "cell_type": "markdown",
   "id": "728e3b7f",
   "metadata": {},
   "source": [
    "## 2.15 Fill in missing values and sum values with pivot tables\n",
    "The `.pivot_table()` method has several useful arguments, including `fill_value` and `margins`.\n",
    "\n",
    "- `fill_value` replaces missing values with a real value (known as *imputation*). What to replace missing values with is a topic big enough to have its own course ([Dealing with Missing Data in Python](https://www.datacamp.com/courses/dealing-with-missing-data-in-python)), but the simplest thing to do is to substitute a dummy value.\n",
    "- `margins` is a shortcut for when you pivoted by two variables, but also wanted to pivot by each of those variables separately: it gives the row and column totals of the pivot table contents.\n",
    "\n",
    "In this exercise, you'll practice using these arguments to up your pivot table skills, which will help you crunch numbers more efficiently!\n",
    "\n",
    "`sales` is available and `pandas` is imported as `pd`."
   ]
  },
  {
   "cell_type": "markdown",
   "id": "bea40779",
   "metadata": {},
   "source": [
    "### 2.15.1 Instructions 1/2\n",
    "- Print the mean `weekly_sales` by `department` and `type`, filling in any missing values with `0`."
   ]
  },
  {
   "cell_type": "code",
   "execution_count": 35,
   "id": "0ba1dd24",
   "metadata": {},
   "outputs": [
    {
     "name": "stdout",
     "output_type": "stream",
     "text": [
      "type                    A              B\n",
      "department                              \n",
      "1            30961.725379   44050.626667\n",
      "2            67600.158788  112958.526667\n",
      "3            17160.002955   30580.655000\n",
      "4            44285.399091   51219.654167\n",
      "5            34821.011364   63236.875000\n",
      "...                   ...            ...\n",
      "95          123933.787121   77082.102500\n",
      "96           21367.042857    9528.538333\n",
      "97           28471.266970    5828.873333\n",
      "98           12875.423182     217.428333\n",
      "99             379.123659       0.000000\n",
      "\n",
      "[80 rows x 2 columns]\n"
     ]
    }
   ],
   "source": [
    "# Print mean weekly_sales by department and type; fill missing values with 0\n",
    "print(sales.pivot_table(values = \"weekly_sales\", index = \"department\", columns = \"type\", fill_value = 0))"
   ]
  },
  {
   "cell_type": "markdown",
   "id": "02554938",
   "metadata": {},
   "source": [
    "### 2.15.2 Instructions 2/2\n",
    "- Print the mean `weekly_sales` by `department` and `type`, filling in any missing values with `0` and summing all rows and columns."
   ]
  },
  {
   "cell_type": "code",
   "execution_count": 36,
   "id": "1f848043",
   "metadata": {},
   "outputs": [
    {
     "name": "stdout",
     "output_type": "stream",
     "text": [
      "type                   A              B           All\n",
      "department                                           \n",
      "1           30961.725379   44050.626667  32052.467153\n",
      "2           67600.158788  112958.526667  71380.022778\n",
      "3           17160.002955   30580.655000  18278.390625\n",
      "4           44285.399091   51219.654167  44863.253681\n",
      "5           34821.011364   63236.875000  37189.000000\n",
      "...                  ...            ...           ...\n",
      "96          21367.042857    9528.538333  20337.607681\n",
      "97          28471.266970    5828.873333  26584.400833\n",
      "98          12875.423182     217.428333  11820.590278\n",
      "99            379.123659       0.000000    379.123659\n",
      "All         23674.667242   25696.678370  23843.950149\n",
      "\n",
      "[81 rows x 3 columns]\n"
     ]
    }
   ],
   "source": [
    "# Print the mean weekly_sales by department and type; fill missing values with 0s; sum all rows and cols\n",
    "print(sales.pivot_table(values=\"weekly_sales\", index=\"department\", columns=\"type\", fill_value = 0, margins = True))"
   ]
  },
  {
   "cell_type": "markdown",
   "id": "36cd0a43",
   "metadata": {},
   "source": [
    "# 3 Slicing and Indexing DataFrames\n",
    "Indexes are supercharged row and column names. Learn how they can be combined with slicing for powerful DataFrame subsetting."
   ]
  },
  {
   "cell_type": "markdown",
   "id": "ab02aa63",
   "metadata": {},
   "source": [
    "## 3.1 Explicit indexes"
   ]
  },
  {
   "cell_type": "markdown",
   "id": "47644f27",
   "metadata": {},
   "source": [
    "## 3.2 Setting and removing indexes\n",
    "pandas allows you to designate columns as an *index*. This enables cleaner code when taking subsets (as well as providing more efficient lookup under some circumstances).\n",
    "\n",
    "In this chapter, you'll be exploring `temperatures`, a DataFrame of average temperatures in cities around the world. `pandas` is loaded as `pd`."
   ]
  },
  {
   "cell_type": "markdown",
   "id": "4e1bd6a9",
   "metadata": {},
   "source": [
    "### 3.2.1 Instructions\n",
    "- *Look at `temperatures`*.\n",
    "- Set the index of `temperatures` to `\"city\"`, assigning to `temperatures_ind`.\n",
    "- *Look at `temperatures_ind`. How is it different from `temperatures`?*\n",
    "- Reset the index of `temperatures_ind`, keeping its contents.\n",
    "- Reset the index of `temperatures_ind`, dropping its contents."
   ]
  },
  {
   "cell_type": "code",
   "execution_count": 37,
   "id": "b4112e34",
   "metadata": {},
   "outputs": [
    {
     "name": "stdout",
     "output_type": "stream",
     "text": [
      "       Unnamed: 0        date     city        country  avg_temp_c\n",
      "0               0  2000-01-01  Abidjan  Côte D'Ivoire      27.293\n",
      "1               1  2000-02-01  Abidjan  Côte D'Ivoire      27.685\n",
      "2               2  2000-03-01  Abidjan  Côte D'Ivoire      29.061\n",
      "3               3  2000-04-01  Abidjan  Côte D'Ivoire      28.162\n",
      "4               4  2000-05-01  Abidjan  Côte D'Ivoire      27.547\n",
      "...           ...         ...      ...            ...         ...\n",
      "16495       16495  2013-05-01     Xian          China      18.979\n",
      "16496       16496  2013-06-01     Xian          China      23.522\n",
      "16497       16497  2013-07-01     Xian          China      25.251\n",
      "16498       16498  2013-08-01     Xian          China      24.528\n",
      "16499       16499  2013-09-01     Xian          China         NaN\n",
      "\n",
      "[16500 rows x 5 columns]\n",
      "         Unnamed: 0        date        country  avg_temp_c\n",
      "city                                                      \n",
      "Abidjan           0  2000-01-01  Côte D'Ivoire      27.293\n",
      "Abidjan           1  2000-02-01  Côte D'Ivoire      27.685\n",
      "Abidjan           2  2000-03-01  Côte D'Ivoire      29.061\n",
      "Abidjan           3  2000-04-01  Côte D'Ivoire      28.162\n",
      "Abidjan           4  2000-05-01  Côte D'Ivoire      27.547\n",
      "...             ...         ...            ...         ...\n",
      "Xian          16495  2013-05-01          China      18.979\n",
      "Xian          16496  2013-06-01          China      23.522\n",
      "Xian          16497  2013-07-01          China      25.251\n",
      "Xian          16498  2013-08-01          China      24.528\n",
      "Xian          16499  2013-09-01          China         NaN\n",
      "\n",
      "[16500 rows x 4 columns]\n",
      "          city  Unnamed: 0        date        country  avg_temp_c\n",
      "0      Abidjan           0  2000-01-01  Côte D'Ivoire      27.293\n",
      "1      Abidjan           1  2000-02-01  Côte D'Ivoire      27.685\n",
      "2      Abidjan           2  2000-03-01  Côte D'Ivoire      29.061\n",
      "3      Abidjan           3  2000-04-01  Côte D'Ivoire      28.162\n",
      "4      Abidjan           4  2000-05-01  Côte D'Ivoire      27.547\n",
      "...        ...         ...         ...            ...         ...\n",
      "16495     Xian       16495  2013-05-01          China      18.979\n",
      "16496     Xian       16496  2013-06-01          China      23.522\n",
      "16497     Xian       16497  2013-07-01          China      25.251\n",
      "16498     Xian       16498  2013-08-01          China      24.528\n",
      "16499     Xian       16499  2013-09-01          China         NaN\n",
      "\n",
      "[16500 rows x 5 columns]\n",
      "       Unnamed: 0        date        country  avg_temp_c\n",
      "0               0  2000-01-01  Côte D'Ivoire      27.293\n",
      "1               1  2000-02-01  Côte D'Ivoire      27.685\n",
      "2               2  2000-03-01  Côte D'Ivoire      29.061\n",
      "3               3  2000-04-01  Côte D'Ivoire      28.162\n",
      "4               4  2000-05-01  Côte D'Ivoire      27.547\n",
      "...           ...         ...            ...         ...\n",
      "16495       16495  2013-05-01          China      18.979\n",
      "16496       16496  2013-06-01          China      23.522\n",
      "16497       16497  2013-07-01          China      25.251\n",
      "16498       16498  2013-08-01          China      24.528\n",
      "16499       16499  2013-09-01          China         NaN\n",
      "\n",
      "[16500 rows x 4 columns]\n"
     ]
    }
   ],
   "source": [
    "temperatures = pd.read_csv('datasets/temperatures.csv')\n",
    "\n",
    "# Look at temperatures\n",
    "print(temperatures)\n",
    "\n",
    "# Set the index of temperatures to city\n",
    "temperatures_ind = temperatures.set_index(\"city\")\n",
    "\n",
    "# Look at temperatures_ind\n",
    "print(temperatures_ind)\n",
    "\n",
    "# Reset the temperatures_ind index, keeping its contents\n",
    "print(temperatures_ind.reset_index())\n",
    "\n",
    "# Reset the temperatures_ind index, dropping its contents\n",
    "print(temperatures_ind.reset_index(drop = True))"
   ]
  },
  {
   "cell_type": "markdown",
   "id": "12900fd5",
   "metadata": {},
   "source": [
    "## 3.3 Subsetting with .loc[]\n",
    "The killer feature for indexes is `.loc[]`: a subsetting method that accepts index values. When you pass it a single argument, it will take a subset of rows.\n",
    "\n",
    "The code for subsetting using `.loc[]` can be easier to read than standard square bracket subsetting, which can make your code less burdensome to maintain.\n",
    "\n",
    "`pandas` is loaded as `pd`. `temperatures` and `temperatures_ind` are available; the latter is indexed by `city`."
   ]
  },
  {
   "cell_type": "markdown",
   "id": "47017633",
   "metadata": {},
   "source": [
    "### 3.3.1 Instructions\n",
    "- Create a list called `cities` that contains \"Moscow\" and \"Saint Petersburg\".\n",
    "- Use `[]` subsetting to filter `temperatures` for rows where the `city` column takes a value in the `cities` list.\n",
    "- Use `.loc[]` subsetting to filter `temperatures_ind` for rows where the city is in the `cities` list."
   ]
  },
  {
   "cell_type": "code",
   "execution_count": 38,
   "id": "fb45beaf",
   "metadata": {},
   "outputs": [
    {
     "name": "stdout",
     "output_type": "stream",
     "text": [
      "       Unnamed: 0        date              city country  avg_temp_c\n",
      "10725       10725  2000-01-01            Moscow  Russia      -7.313\n",
      "10726       10726  2000-02-01            Moscow  Russia      -3.551\n",
      "10727       10727  2000-03-01            Moscow  Russia      -1.661\n",
      "10728       10728  2000-04-01            Moscow  Russia      10.096\n",
      "10729       10729  2000-05-01            Moscow  Russia      10.357\n",
      "...           ...         ...               ...     ...         ...\n",
      "13360       13360  2013-05-01  Saint Petersburg  Russia      12.355\n",
      "13361       13361  2013-06-01  Saint Petersburg  Russia      17.185\n",
      "13362       13362  2013-07-01  Saint Petersburg  Russia      17.234\n",
      "13363       13363  2013-08-01  Saint Petersburg  Russia      17.153\n",
      "13364       13364  2013-09-01  Saint Petersburg  Russia         NaN\n",
      "\n",
      "[330 rows x 5 columns]\n",
      "                  Unnamed: 0        date country  avg_temp_c\n",
      "city                                                        \n",
      "Moscow                 10725  2000-01-01  Russia      -7.313\n",
      "Moscow                 10726  2000-02-01  Russia      -3.551\n",
      "Moscow                 10727  2000-03-01  Russia      -1.661\n",
      "Moscow                 10728  2000-04-01  Russia      10.096\n",
      "Moscow                 10729  2000-05-01  Russia      10.357\n",
      "...                      ...         ...     ...         ...\n",
      "Saint Petersburg       13360  2013-05-01  Russia      12.355\n",
      "Saint Petersburg       13361  2013-06-01  Russia      17.185\n",
      "Saint Petersburg       13362  2013-07-01  Russia      17.234\n",
      "Saint Petersburg       13363  2013-08-01  Russia      17.153\n",
      "Saint Petersburg       13364  2013-09-01  Russia         NaN\n",
      "\n",
      "[330 rows x 4 columns]\n"
     ]
    }
   ],
   "source": [
    "# Make a list of cities to subset on\n",
    "cities = [\"Moscow\", \"Saint Petersburg\"]\n",
    "\n",
    "# Subset temperatures using square brackets\n",
    "print(temperatures[temperatures[\"city\"].isin(cities)])\n",
    "\n",
    "# Subset temperatures_ind using .loc[]\n",
    "print(temperatures_ind.loc[cities])"
   ]
  },
  {
   "cell_type": "markdown",
   "id": "fd64671f",
   "metadata": {},
   "source": [
    "## 3.4 Setting multi-level indexes\n",
    "Indexes can also be made out of multiple columns, forming a *multi-level index* (sometimes called a *hierarchical index*). There is a trade-off to using these.\n",
    "\n",
    "The benefit is that multi-level indexes make it more natural to reason about nested categorical variables. For example, in a clinical trial, you might have control and treatment groups. Then each test subject belongs to one or another group, and we can say that a test subject is nested inside the treatment group. Similarly, in the temperature dataset, the city is located in the country, so we can say a city is nested inside the country.\n",
    "\n",
    "The main downside is that the code for manipulating indexes is different from the code for manipulating columns, so you have to learn two syntaxes and keep track of how your data is represented.\n",
    "\n",
    "`pandas` is loaded as `pd`. `temperatures` is available."
   ]
  },
  {
   "cell_type": "markdown",
   "id": "066c6fe7",
   "metadata": {},
   "source": [
    "### 3.4.1 Instructions\n",
    "- Set the index of `temperatures` to the `\"country\"` and `\"city\"` columns, and assign this to `temperatures_ind`.\n",
    "- Specify two country/city pairs to keep: `\"Brazil\"`/`\"Rio De Janeiro\"` and `\"Pakistan\"`/`\"Lahore\"`, assigning to `rows_to_keep`.\n",
    "- Print and subset `temperatures_ind` for `rows_to_keep` using `.loc[]`."
   ]
  },
  {
   "cell_type": "code",
   "execution_count": 39,
   "id": "faf59ded",
   "metadata": {},
   "outputs": [
    {
     "name": "stdout",
     "output_type": "stream",
     "text": [
      "                         Unnamed: 0        date  avg_temp_c\n",
      "country  city                                              \n",
      "Brazil   Rio De Janeiro       12540  2000-01-01      25.974\n",
      "         Rio De Janeiro       12541  2000-02-01      26.699\n",
      "         Rio De Janeiro       12542  2000-03-01      26.270\n",
      "         Rio De Janeiro       12543  2000-04-01      25.750\n",
      "         Rio De Janeiro       12544  2000-05-01      24.356\n",
      "...                             ...         ...         ...\n",
      "Pakistan Lahore                8575  2013-05-01      33.457\n",
      "         Lahore                8576  2013-06-01      34.456\n",
      "         Lahore                8577  2013-07-01      33.279\n",
      "         Lahore                8578  2013-08-01      31.511\n",
      "         Lahore                8579  2013-09-01         NaN\n",
      "\n",
      "[330 rows x 3 columns]\n"
     ]
    }
   ],
   "source": [
    "# Index temperatures by country & city\n",
    "temperatures_ind = temperatures.set_index([\"country\", \"city\"])\n",
    "\n",
    "# List of tuples: Brazil, Rio De Janeiro & Pakistan, Lahore\n",
    "rows_to_keep = [(\"Brazil\", \"Rio De Janeiro\"), (\"Pakistan\", \"Lahore\")]\n",
    "\n",
    "# Subset for rows to keep\n",
    "print(temperatures_ind.loc[rows_to_keep])"
   ]
  },
  {
   "cell_type": "markdown",
   "id": "c6f50967",
   "metadata": {},
   "source": [
    "## 3.5 Sorting by index values\n",
    "Previously, you changed the order of the rows in a DataFrame by calling `.sort_values()`. It's also useful to be able to sort by elements in the index. For this, you need to use `.sort_index()`.\n",
    "\n",
    "`pandas` is loaded as `pd`. `temperatures_ind` has a multi-level index of `country` and `city`, and is available."
   ]
  },
  {
   "cell_type": "markdown",
   "id": "af057a4f",
   "metadata": {},
   "source": [
    "### 3.5.1 Instructions\n",
    "- Sort `temperatures_ind` by the index values.\n",
    "- Sort `temperatures_ind` by the index values at the `\"city\"` level.\n",
    "- Sort `temperatures_ind` by ascending country then descending city."
   ]
  },
  {
   "cell_type": "code",
   "execution_count": 40,
   "id": "88276e1b",
   "metadata": {},
   "outputs": [
    {
     "name": "stdout",
     "output_type": "stream",
     "text": [
      "                    Unnamed: 0        date  avg_temp_c\n",
      "country     city                                      \n",
      "Afghanistan Kabul         7260  2000-01-01       3.326\n",
      "            Kabul         7261  2000-02-01       3.454\n",
      "            Kabul         7262  2000-03-01       9.612\n",
      "            Kabul         7263  2000-04-01      17.925\n",
      "            Kabul         7264  2000-05-01      24.658\n",
      "...                        ...         ...         ...\n",
      "Zimbabwe    Harare        5605  2013-05-01      18.298\n",
      "            Harare        5606  2013-06-01      17.020\n",
      "            Harare        5607  2013-07-01      16.299\n",
      "            Harare        5608  2013-08-01      19.232\n",
      "            Harare        5609  2013-09-01         NaN\n",
      "\n",
      "[16500 rows x 3 columns]\n",
      "                       Unnamed: 0        date  avg_temp_c\n",
      "country       city                                       \n",
      "Côte D'Ivoire Abidjan           0  2000-01-01      27.293\n",
      "              Abidjan           1  2000-02-01      27.685\n",
      "              Abidjan           2  2000-03-01      29.061\n",
      "              Abidjan           3  2000-04-01      28.162\n",
      "              Abidjan           4  2000-05-01      27.547\n",
      "...                           ...         ...         ...\n",
      "China         Xian          16495  2013-05-01      18.979\n",
      "              Xian          16496  2013-06-01      23.522\n",
      "              Xian          16497  2013-07-01      25.251\n",
      "              Xian          16498  2013-08-01      24.528\n",
      "              Xian          16499  2013-09-01         NaN\n",
      "\n",
      "[16500 rows x 3 columns]\n",
      "                    Unnamed: 0        date  avg_temp_c\n",
      "country     city                                      \n",
      "Afghanistan Kabul         7260  2000-01-01       3.326\n",
      "            Kabul         7261  2000-02-01       3.454\n",
      "            Kabul         7262  2000-03-01       9.612\n",
      "            Kabul         7263  2000-04-01      17.925\n",
      "            Kabul         7264  2000-05-01      24.658\n",
      "...                        ...         ...         ...\n",
      "Zimbabwe    Harare        5605  2013-05-01      18.298\n",
      "            Harare        5606  2013-06-01      17.020\n",
      "            Harare        5607  2013-07-01      16.299\n",
      "            Harare        5608  2013-08-01      19.232\n",
      "            Harare        5609  2013-09-01         NaN\n",
      "\n",
      "[16500 rows x 3 columns]\n"
     ]
    }
   ],
   "source": [
    "# Sort temperatures_ind by index values\n",
    "print(temperatures_ind.sort_index())\n",
    "\n",
    "# Sort temperatures_ind by index values at the city level\n",
    "print(temperatures_ind.sort_index(level = \"city\"))\n",
    "\n",
    "# Sort temperatures_ind by country then descending city\n",
    "print(temperatures_ind.sort_index(level = [\"country\", \"city\"], ascending = [True, False]))"
   ]
  },
  {
   "cell_type": "markdown",
   "id": "1fd98abd",
   "metadata": {},
   "source": [
    "## 3.6 Slicing and subsetting with .loc and .iloc"
   ]
  },
  {
   "cell_type": "markdown",
   "id": "12157fcf",
   "metadata": {},
   "source": [
    "## 3.7 Slicing index values\n",
    "Slicing lets you select consecutive elements of an object using `first:last` syntax. DataFrames can be sliced by index values or by row/column number; we'll start with the first case. This involves slicing inside the `.loc[]` method.\n",
    "\n",
    "Compared to slicing lists, there are a few things to remember.\n",
    "\n",
    "- You can only slice an index if the index is sorted (using `.sort_index()`).\n",
    "- To slice at the outer level, `first` and `last` can be strings.\n",
    "- To slice at inner levels, `first` and `last` should be tuples.\n",
    "- If you pass a single slice to `.loc[]`, it will slice the rows.\n",
    "\n",
    "`pandas` is loaded as `pd`. `temperatures_ind` has country and city in the index, and is available."
   ]
  },
  {
   "cell_type": "markdown",
   "id": "f40dad1b",
   "metadata": {},
   "source": [
    "### 3.7.1 Instructions\n",
    "- Sort the index of `temperatures_ind`.\n",
    "- Use slicing with `.loc[]` to get these subsets:\n",
    "  - from Pakistan to Russia.\n",
    "  - from Lahore to Moscow. (*This will return nonsense.*)\n",
    "  - from Pakistan, Lahore to Russia, Moscow."
   ]
  },
  {
   "cell_type": "code",
   "execution_count": 41,
   "id": "cc2deb77",
   "metadata": {},
   "outputs": [
    {
     "name": "stdout",
     "output_type": "stream",
     "text": [
      "                           Unnamed: 0        date  avg_temp_c\n",
      "country  city                                                \n",
      "Pakistan Faisalabad              4785  2000-01-01      12.792\n",
      "         Faisalabad              4786  2000-02-01      14.339\n",
      "         Faisalabad              4787  2000-03-01      20.309\n",
      "         Faisalabad              4788  2000-04-01      29.072\n",
      "         Faisalabad              4789  2000-05-01      34.845\n",
      "...                               ...         ...         ...\n",
      "Russia   Saint Petersburg       13360  2013-05-01      12.355\n",
      "         Saint Petersburg       13361  2013-06-01      17.185\n",
      "         Saint Petersburg       13362  2013-07-01      17.234\n",
      "         Saint Petersburg       13363  2013-08-01      17.153\n",
      "         Saint Petersburg       13364  2013-09-01         NaN\n",
      "\n",
      "[1155 rows x 3 columns]\n",
      "                    Unnamed: 0        date  avg_temp_c\n",
      "country city                                          \n",
      "Mexico  Mexico           10230  2000-01-01      12.694\n",
      "        Mexico           10231  2000-02-01      14.677\n",
      "        Mexico           10232  2000-03-01      17.376\n",
      "        Mexico           10233  2000-04-01      18.294\n",
      "        Mexico           10234  2000-05-01      18.562\n",
      "...                        ...         ...         ...\n",
      "Morocco Casablanca        3130  2013-05-01      19.217\n",
      "        Casablanca        3131  2013-06-01      23.649\n",
      "        Casablanca        3132  2013-07-01      27.488\n",
      "        Casablanca        3133  2013-08-01      27.952\n",
      "        Casablanca        3134  2013-09-01         NaN\n",
      "\n",
      "[330 rows x 3 columns]\n",
      "                 Unnamed: 0        date  avg_temp_c\n",
      "country  city                                      \n",
      "Pakistan Lahore        8415  2000-01-01      12.792\n",
      "         Lahore        8416  2000-02-01      14.339\n",
      "         Lahore        8417  2000-03-01      20.309\n",
      "         Lahore        8418  2000-04-01      29.072\n",
      "         Lahore        8419  2000-05-01      34.845\n",
      "...                     ...         ...         ...\n",
      "Russia   Moscow       10885  2013-05-01      16.152\n",
      "         Moscow       10886  2013-06-01      18.718\n",
      "         Moscow       10887  2013-07-01      18.136\n",
      "         Moscow       10888  2013-08-01      17.485\n",
      "         Moscow       10889  2013-09-01         NaN\n",
      "\n",
      "[660 rows x 3 columns]\n"
     ]
    }
   ],
   "source": [
    "# Sort the index of temperatures_ind\n",
    "temperatures_srt = temperatures_ind.sort_index()\n",
    "\n",
    "# Subset rows from Pakistan to Russia\n",
    "print(temperatures_srt.loc[\"Pakistan\":\"Russia\"])\n",
    "\n",
    "# Try to subset rows from Lahore to Moscow\n",
    "print(temperatures_srt.loc[\"Lahore\":\"Moscow\"])\n",
    "\n",
    "# Subset rows from Pakistan, Lahore to Russia, Moscow\n",
    "print(temperatures_srt.loc[(\"Pakistan\", \"Lahore\"):(\"Russia\", \"Moscow\")])"
   ]
  },
  {
   "cell_type": "markdown",
   "id": "ba1318bd",
   "metadata": {},
   "source": [
    "## 3.8 Slicing in both directions\n",
    "You've seen slicing DataFrames by rows and by columns, but since DataFrames are two-dimensional objects, it is often natural to slice both dimensions at once. That is, by passing two arguments to `.loc[]`, you can subset by rows and columns in one go.\n",
    "\n",
    "`pandas` is loaded as `pd`. `temperatures_srt` is indexed by country and city, has a sorted index, and is available."
   ]
  },
  {
   "cell_type": "markdown",
   "id": "7dea5eb7",
   "metadata": {},
   "source": [
    "### 3.8.1 Instructions\n",
    "- Use `.loc[]` slicing to subset rows from India, Hyderabad to Iraq, Baghdad.\n",
    "- Use `.loc[]` slicing to subset columns from `date` to `avg_temp_c`.\n",
    "- Slice in both directions at once from Hyderabad to Baghdad, and `date` to `avg_temp_c`."
   ]
  },
  {
   "cell_type": "code",
   "execution_count": 42,
   "id": "15956405",
   "metadata": {},
   "outputs": [
    {
     "name": "stdout",
     "output_type": "stream",
     "text": [
      "                   Unnamed: 0        date  avg_temp_c\n",
      "country city                                         \n",
      "India   Hyderabad        5940  2000-01-01      23.779\n",
      "        Hyderabad        5941  2000-02-01      25.826\n",
      "        Hyderabad        5942  2000-03-01      28.821\n",
      "        Hyderabad        5943  2000-04-01      32.698\n",
      "        Hyderabad        5944  2000-05-01      32.438\n",
      "...                       ...         ...         ...\n",
      "Iraq    Baghdad          1150  2013-05-01      28.673\n",
      "        Baghdad          1151  2013-06-01      33.803\n",
      "        Baghdad          1152  2013-07-01      36.392\n",
      "        Baghdad          1153  2013-08-01      35.463\n",
      "        Baghdad          1154  2013-09-01         NaN\n",
      "\n",
      "[2145 rows x 3 columns]\n",
      "                          date  avg_temp_c\n",
      "country     city                          \n",
      "Afghanistan Kabul   2000-01-01       3.326\n",
      "            Kabul   2000-02-01       3.454\n",
      "            Kabul   2000-03-01       9.612\n",
      "            Kabul   2000-04-01      17.925\n",
      "            Kabul   2000-05-01      24.658\n",
      "...                        ...         ...\n",
      "Zimbabwe    Harare  2013-05-01      18.298\n",
      "            Harare  2013-06-01      17.020\n",
      "            Harare  2013-07-01      16.299\n",
      "            Harare  2013-08-01      19.232\n",
      "            Harare  2013-09-01         NaN\n",
      "\n",
      "[16500 rows x 2 columns]\n",
      "                         date  avg_temp_c\n",
      "country city                             \n",
      "India   Hyderabad  2000-01-01      23.779\n",
      "        Hyderabad  2000-02-01      25.826\n",
      "        Hyderabad  2000-03-01      28.821\n",
      "        Hyderabad  2000-04-01      32.698\n",
      "        Hyderabad  2000-05-01      32.438\n",
      "...                       ...         ...\n",
      "Iraq    Baghdad    2013-05-01      28.673\n",
      "        Baghdad    2013-06-01      33.803\n",
      "        Baghdad    2013-07-01      36.392\n",
      "        Baghdad    2013-08-01      35.463\n",
      "        Baghdad    2013-09-01         NaN\n",
      "\n",
      "[2145 rows x 2 columns]\n"
     ]
    }
   ],
   "source": [
    "# Subset rows from India, Hyderabad to Iraq, Baghdad\n",
    "print(temperatures_srt.loc[(\"India\", \"Hyderabad\"):(\"Iraq\", \"Baghdad\")])\n",
    "\n",
    "# Subset columns from date to avg_temp_c\n",
    "print(temperatures_srt.loc[:, \"date\":\"avg_temp_c\"])\n",
    "\n",
    "# Subset in both directions at once\n",
    "print(temperatures_srt.loc[(\"India\", \"Hyderabad\"):(\"Iraq\", \"Baghdad\"), \"date\":\"avg_temp_c\"])"
   ]
  },
  {
   "cell_type": "markdown",
   "id": "68b5dd66",
   "metadata": {},
   "source": [
    "## 3.9 Slicing time series\n",
    "Slicing is particularly useful for time series since it's a common thing to want to filter for data within a date range. Add the `date` column to the index, then use `.loc[]` to perform the subsetting. The important thing to remember is to keep your dates in ISO 8601 format, that is, `\"yyyy-mm-dd\"` for year-month-day, `\"yyyy-mm\"` for year-month, and `\"yyyy\"` for year.\n",
    "\n",
    "Recall from Chapter 1 that you can combine multiple Boolean conditions using logical operators, such as `&`. To do so in one line of code, you'll need to add parentheses `()` around each condition.\n",
    "\n",
    "`pandas` is loaded as `pd` and `temperatures`, with no index, is available."
   ]
  },
  {
   "cell_type": "markdown",
   "id": "b4733911",
   "metadata": {},
   "source": [
    "### 3.9.1 Instructions\n",
    "- Use Boolean conditions, not `.isin()` or `.loc[]`, and the full date `\"yyyy-mm-dd\"`, to subset `temperatures` for rows in 2010 and 2011 and print the results.\n",
    "- Set the index of `temperatures` to the `date` column and sort it.\n",
    "- Use `.loc[]` to subset `temperatures_ind` for rows in 2010 and 2011.\n",
    "- Use `.loc[]` to subset `temperatures_ind` for rows from Aug 2010 to Feb 2011."
   ]
  },
  {
   "cell_type": "code",
   "execution_count": 43,
   "id": "b3afe4cb",
   "metadata": {},
   "outputs": [
    {
     "name": "stdout",
     "output_type": "stream",
     "text": [
      "       Unnamed: 0        date     city        country  avg_temp_c\n",
      "120           120  2010-01-01  Abidjan  Côte D'Ivoire      28.270\n",
      "121           121  2010-02-01  Abidjan  Côte D'Ivoire      29.262\n",
      "122           122  2010-03-01  Abidjan  Côte D'Ivoire      29.596\n",
      "123           123  2010-04-01  Abidjan  Côte D'Ivoire      29.068\n",
      "124           124  2010-05-01  Abidjan  Côte D'Ivoire      28.258\n",
      "...           ...         ...      ...            ...         ...\n",
      "16474       16474  2011-08-01     Xian          China      23.069\n",
      "16475       16475  2011-09-01     Xian          China      16.775\n",
      "16476       16476  2011-10-01     Xian          China      12.587\n",
      "16477       16477  2011-11-01     Xian          China       7.543\n",
      "16478       16478  2011-12-01     Xian          China      -0.490\n",
      "\n",
      "[2400 rows x 5 columns]\n",
      "            Unnamed: 0        city    country  avg_temp_c\n",
      "date                                                     \n",
      "2010-01-01        4905  Faisalabad   Pakistan      11.810\n",
      "2010-01-01       10185   Melbourne  Australia      20.016\n",
      "2010-01-01        3750   Chongqing      China       7.921\n",
      "2010-01-01       13155   São Paulo     Brazil      23.738\n",
      "2010-01-01        5400   Guangzhou      China      14.136\n",
      "...                ...         ...        ...         ...\n",
      "2010-12-01        6896     Jakarta  Indonesia      26.602\n",
      "2010-12-01        5246       Gizeh      Egypt      16.530\n",
      "2010-12-01       11186      Nagpur      India      19.120\n",
      "2010-12-01       14981      Sydney  Australia      19.559\n",
      "2010-12-01       13496    Salvador     Brazil      26.265\n",
      "\n",
      "[1200 rows x 4 columns]\n",
      "            Unnamed: 0           city        country  avg_temp_c\n",
      "date                                                            \n",
      "2010-08-01        2602       Calcutta          India      30.226\n",
      "2010-08-01       12337           Pune          India      24.941\n",
      "2010-08-01        6562          Izmir         Turkey      28.352\n",
      "2010-08-01       15637        Tianjin          China      25.543\n",
      "2010-08-01        9862         Manila    Philippines      27.101\n",
      "...                ...            ...            ...         ...\n",
      "2011-01-01        4257  Dar Es Salaam       Tanzania      28.541\n",
      "2011-01-01       11352        Nairobi          Kenya      17.768\n",
      "2011-01-01         297    Addis Abeba       Ethiopia      17.708\n",
      "2011-01-01       11517        Nanjing          China       0.144\n",
      "2011-01-01       11847       New York  United States      -4.463\n",
      "\n",
      "[600 rows x 4 columns]\n"
     ]
    }
   ],
   "source": [
    "# Use Boolean conditions to subset temperatures for rows in 2010 and 2011\n",
    "temperatures_bool = temperatures[(temperatures[\"date\"] >= \"2010-01-01\") & (temperatures[\"date\"] <= \"2011-12-31\")]\n",
    "print(temperatures_bool)\n",
    "\n",
    "# Set date as the index and sort the index\n",
    "temperatures_ind = temperatures.set_index(\"date\").sort_index()\n",
    "\n",
    "# Use .loc[] to subset temperatures_ind for rows in 2010 and 2011\n",
    "print(temperatures_ind.loc[\"2010\":\"2011\"])\n",
    "\n",
    "# Use .loc[] to subset temperatures_ind for rows from Aug 2010 to Feb 2011\n",
    "print(temperatures_ind.loc[\"2010-08\":\"2011-02\"])"
   ]
  },
  {
   "cell_type": "markdown",
   "id": "7a1f7060",
   "metadata": {},
   "source": [
    "## 3.10 Subsetting by row/column number\n",
    "The most common ways to subset rows are the ways we've previously discussed: using a Boolean condition or by index labels. However, it is also occasionally useful to pass row numbers.\n",
    "\n",
    "This is done using `.iloc[]`, and like `.loc[]`, it can take two arguments to let you subset by rows and columns.\n",
    "\n",
    "`pandas` is loaded as `pd`. `temperatures` (without an index) is available."
   ]
  },
  {
   "cell_type": "markdown",
   "id": "735066d2",
   "metadata": {},
   "source": [
    "### 3.10.1 Instructions\n",
    "Use `.iloc[]` on `temperatures` to take subsets.\n",
    "\n",
    "- Get the 23rd row, 2nd column (index positions 22 and 1).\n",
    "- Get the first 5 rows (index positions 0 to 5).\n",
    "- Get all rows, columns 3 and 4 (index positions 2 to 4).\n",
    "- Get the first 5 rows, columns 3 and 4."
   ]
  },
  {
   "cell_type": "code",
   "execution_count": 44,
   "id": "c6784612",
   "metadata": {},
   "outputs": [
    {
     "name": "stdout",
     "output_type": "stream",
     "text": [
      "2001-11-01\n",
      "   Unnamed: 0        date     city        country  avg_temp_c\n",
      "0           0  2000-01-01  Abidjan  Côte D'Ivoire      27.293\n",
      "1           1  2000-02-01  Abidjan  Côte D'Ivoire      27.685\n",
      "2           2  2000-03-01  Abidjan  Côte D'Ivoire      29.061\n",
      "3           3  2000-04-01  Abidjan  Côte D'Ivoire      28.162\n",
      "4           4  2000-05-01  Abidjan  Côte D'Ivoire      27.547\n",
      "          city        country\n",
      "0      Abidjan  Côte D'Ivoire\n",
      "1      Abidjan  Côte D'Ivoire\n",
      "2      Abidjan  Côte D'Ivoire\n",
      "3      Abidjan  Côte D'Ivoire\n",
      "4      Abidjan  Côte D'Ivoire\n",
      "...        ...            ...\n",
      "16495     Xian          China\n",
      "16496     Xian          China\n",
      "16497     Xian          China\n",
      "16498     Xian          China\n",
      "16499     Xian          China\n",
      "\n",
      "[16500 rows x 2 columns]\n",
      "      city        country\n",
      "0  Abidjan  Côte D'Ivoire\n",
      "1  Abidjan  Côte D'Ivoire\n",
      "2  Abidjan  Côte D'Ivoire\n",
      "3  Abidjan  Côte D'Ivoire\n",
      "4  Abidjan  Côte D'Ivoire\n"
     ]
    }
   ],
   "source": [
    "# Get 23rd row, 2nd column (index 22, 1)\n",
    "print(temperatures.iloc[22, 1])\n",
    "\n",
    "# Use slicing to get the first 5 rows\n",
    "print(temperatures.iloc[0:5, :])\n",
    "\n",
    "# Use slicing to get columns 3 to 4\n",
    "print(temperatures.iloc[:, 2:4])\n",
    "\n",
    "# Use slicing in both directions at once\n",
    "print(temperatures.iloc[0:5, 2:4])"
   ]
  },
  {
   "cell_type": "markdown",
   "id": "90d3a6b3",
   "metadata": {},
   "source": [
    "## 3.11 Working with pivot tables"
   ]
  },
  {
   "cell_type": "markdown",
   "id": "49f398dc",
   "metadata": {},
   "source": [
    "## 3.12 Pivot temperature by city and year\n",
    "It's interesting to see how temperatures for each city change over time—looking at every month results in a big table, which can be tricky to reason about. Instead, let's look at how temperatures change by year.\n",
    "\n",
    "You can access the components of a date (year, month and day) using code of the form `dataframe[\"column\"].dt.component`. For example, the month component is `dataframe[\"column\"].dt.month`, and the year component is `dataframe[\"column\"].dt.year`.\n",
    "\n",
    "Once you have the year column, you can create a pivot table with the data aggregated by city and year, which you'll explore in the coming exercises.\n",
    "\n",
    "`pandas` is loaded as `pd`. `temperatures` is available."
   ]
  },
  {
   "cell_type": "markdown",
   "id": "77784390",
   "metadata": {},
   "source": [
    "### 3.12.1 Instructions\n",
    "- Add a `year` column to `temperatures`, from the `year` component of the `date` column.\n",
    "- Make a pivot table of the `avg_temp_c` column, with `country` and `city` as rows, and `year` as columns. Assign to `temp_by_country_city_vs_year`, and *look at the result*."
   ]
  },
  {
   "cell_type": "code",
   "execution_count": 45,
   "id": "c570d98c",
   "metadata": {},
   "outputs": [
    {
     "name": "stdout",
     "output_type": "stream",
     "text": [
      "year                                 2000       2001       2002       2003  \\\n",
      "country       city                                                           \n",
      "Afghanistan   Kabul             15.822667  15.847917  15.714583  15.132583   \n",
      "Angola        Luanda            24.410333  24.427083  24.790917  24.867167   \n",
      "Australia     Melbourne         14.320083  14.180000  14.075833  13.985583   \n",
      "              Sydney            17.567417  17.854500  17.733833  17.592333   \n",
      "Bangladesh    Dhaka             25.905250  25.931250  26.095000  25.927417   \n",
      "...                                   ...        ...        ...        ...   \n",
      "United States Chicago           11.089667  11.703083  11.532083  10.481583   \n",
      "              Los Angeles       16.643333  16.466250  16.430250  16.944667   \n",
      "              New York           9.969083  10.931000  11.252167   9.836000   \n",
      "Vietnam       Ho Chi Minh City  27.588917  27.831750  28.064750  27.827667   \n",
      "Zimbabwe      Harare            20.283667  20.861000  21.079333  20.889167   \n",
      "\n",
      "year                                 2004       2005       2006       2007  \\\n",
      "country       city                                                           \n",
      "Afghanistan   Kabul             16.128417  14.847500  15.798500  15.518000   \n",
      "Angola        Luanda            24.216167  24.414583  24.138417  24.241583   \n",
      "Australia     Melbourne         13.742083  14.378500  13.991083  14.991833   \n",
      "              Sydney            17.869667  18.028083  17.749500  18.020833   \n",
      "Bangladesh    Dhaka             26.136083  26.193333  26.440417  25.951333   \n",
      "...                                   ...        ...        ...        ...   \n",
      "United States Chicago           10.943417  11.583833  11.870500  11.448333   \n",
      "              Los Angeles       16.552833  16.431417  16.623083  16.699917   \n",
      "              New York          10.389500  10.681417  11.519250  10.627333   \n",
      "Vietnam       Ho Chi Minh City  27.686583  27.884000  28.044000  27.866667   \n",
      "Zimbabwe      Harare            20.307667  21.487417  20.699750  20.746250   \n",
      "\n",
      "year                                 2008       2009       2010       2011  \\\n",
      "country       city                                                           \n",
      "Afghanistan   Kabul             15.479250  15.093333  15.676000  15.812167   \n",
      "Angola        Luanda            24.266333  24.325083  24.440250  24.150750   \n",
      "Australia     Melbourne         14.110583  14.647417  14.231667  14.190917   \n",
      "              Sydney            17.321083  18.175833  17.999000  17.713333   \n",
      "Bangladesh    Dhaka             26.004500  26.535583  26.648167  25.803250   \n",
      "...                                   ...        ...        ...        ...   \n",
      "United States Chicago           10.242417  10.298333  11.815917  11.214250   \n",
      "              Los Angeles       17.014750  16.677000  15.887000  15.874833   \n",
      "              New York          10.641667  10.141833  11.357583  11.272250   \n",
      "Vietnam       Ho Chi Minh City  27.611417  27.853333  28.281750  27.675417   \n",
      "Zimbabwe      Harare            20.680500  20.523833  21.165833  20.781750   \n",
      "\n",
      "year                                 2012       2013  \n",
      "country       city                                    \n",
      "Afghanistan   Kabul             14.510333  16.206125  \n",
      "Angola        Luanda            24.240083  24.553875  \n",
      "Australia     Melbourne         14.268667  14.741500  \n",
      "              Sydney            17.474333  18.089750  \n",
      "Bangladesh    Dhaka             26.283583  26.587000  \n",
      "...                                   ...        ...  \n",
      "United States Chicago           12.821250  11.586889  \n",
      "              Los Angeles       17.089583  18.120667  \n",
      "              New York          11.971500  12.163889  \n",
      "Vietnam       Ho Chi Minh City  28.248750  28.455000  \n",
      "Zimbabwe      Harare            20.523333  19.756500  \n",
      "\n",
      "[100 rows x 14 columns]\n"
     ]
    }
   ],
   "source": [
    "# Add a year column to temperatures\n",
    "temperatures[\"year\"] = pd.to_datetime(temperatures[\"date\"], format='%Y-%m-%d').dt.year\n",
    "# print(temperatures.head())\n",
    "# Pivot avg_temp_c by country and city vs year\n",
    "temp_by_country_city_vs_year = temperatures.pivot_table(\"avg_temp_c\", index = [\"country\", \"city\"], columns = \"year\")\n",
    "\n",
    "# See the result\n",
    "print(temp_by_country_city_vs_year)"
   ]
  },
  {
   "cell_type": "markdown",
   "id": "a6d2e726",
   "metadata": {},
   "source": [
    "## 3.13 Subsetting pivot tables\n",
    "A pivot table is just a DataFrame with sorted indexes, so the techniques you have learned already can be used to subset them. In particular, the `.loc[]` + slicing combination is often helpful.\n",
    "\n",
    "`pandas` is loaded as `pd`. `temp_by_country_city_vs_year` is available."
   ]
  },
  {
   "cell_type": "markdown",
   "id": "e515c9f7",
   "metadata": {},
   "source": [
    "### 3.13.1 Instructions\n",
    "Use `.loc[]` on `temp_by_country_city_vs_year` to take subsets.\n",
    "\n",
    "- From Egypt to India.\n",
    "- From Egypt, Cairo to India, Delhi.\n",
    "- From Egypt, Cairo to India, Delhi, and 2005 to 2010."
   ]
  },
  {
   "cell_type": "code",
   "execution_count": 46,
   "id": "5aa2403f",
   "metadata": {},
   "outputs": [
    {
     "data": {
      "text/html": [
       "<div>\n",
       "<style scoped>\n",
       "    .dataframe tbody tr th:only-of-type {\n",
       "        vertical-align: middle;\n",
       "    }\n",
       "\n",
       "    .dataframe tbody tr th {\n",
       "        vertical-align: top;\n",
       "    }\n",
       "\n",
       "    .dataframe thead th {\n",
       "        text-align: right;\n",
       "    }\n",
       "</style>\n",
       "<table border=\"1\" class=\"dataframe\">\n",
       "  <thead>\n",
       "    <tr style=\"text-align: right;\">\n",
       "      <th></th>\n",
       "      <th>year</th>\n",
       "      <th>2005</th>\n",
       "      <th>2006</th>\n",
       "      <th>2007</th>\n",
       "      <th>2008</th>\n",
       "      <th>2009</th>\n",
       "      <th>2010</th>\n",
       "    </tr>\n",
       "    <tr>\n",
       "      <th>country</th>\n",
       "      <th>city</th>\n",
       "      <th></th>\n",
       "      <th></th>\n",
       "      <th></th>\n",
       "      <th></th>\n",
       "      <th></th>\n",
       "      <th></th>\n",
       "    </tr>\n",
       "  </thead>\n",
       "  <tbody>\n",
       "    <tr>\n",
       "      <th rowspan=\"2\" valign=\"top\">Egypt</th>\n",
       "      <th>Cairo</th>\n",
       "      <td>22.006500</td>\n",
       "      <td>22.050000</td>\n",
       "      <td>22.361000</td>\n",
       "      <td>22.644500</td>\n",
       "      <td>22.625000</td>\n",
       "      <td>23.718250</td>\n",
       "    </tr>\n",
       "    <tr>\n",
       "      <th>Gizeh</th>\n",
       "      <td>22.006500</td>\n",
       "      <td>22.050000</td>\n",
       "      <td>22.361000</td>\n",
       "      <td>22.644500</td>\n",
       "      <td>22.625000</td>\n",
       "      <td>23.718250</td>\n",
       "    </tr>\n",
       "    <tr>\n",
       "      <th>Ethiopia</th>\n",
       "      <th>Addis Abeba</th>\n",
       "      <td>18.312833</td>\n",
       "      <td>18.427083</td>\n",
       "      <td>18.142583</td>\n",
       "      <td>18.165000</td>\n",
       "      <td>18.765333</td>\n",
       "      <td>18.298250</td>\n",
       "    </tr>\n",
       "    <tr>\n",
       "      <th>France</th>\n",
       "      <th>Paris</th>\n",
       "      <td>11.552917</td>\n",
       "      <td>11.788500</td>\n",
       "      <td>11.750833</td>\n",
       "      <td>11.278250</td>\n",
       "      <td>11.464083</td>\n",
       "      <td>10.409833</td>\n",
       "    </tr>\n",
       "    <tr>\n",
       "      <th>Germany</th>\n",
       "      <th>Berlin</th>\n",
       "      <td>9.919083</td>\n",
       "      <td>10.545333</td>\n",
       "      <td>10.883167</td>\n",
       "      <td>10.657750</td>\n",
       "      <td>10.062500</td>\n",
       "      <td>8.606833</td>\n",
       "    </tr>\n",
       "    <tr>\n",
       "      <th rowspan=\"5\" valign=\"top\">India</th>\n",
       "      <th>Ahmadabad</th>\n",
       "      <td>26.828083</td>\n",
       "      <td>27.282833</td>\n",
       "      <td>27.511167</td>\n",
       "      <td>27.048500</td>\n",
       "      <td>28.095833</td>\n",
       "      <td>28.017833</td>\n",
       "    </tr>\n",
       "    <tr>\n",
       "      <th>Bangalore</th>\n",
       "      <td>25.476500</td>\n",
       "      <td>25.418250</td>\n",
       "      <td>25.464333</td>\n",
       "      <td>25.352583</td>\n",
       "      <td>25.725750</td>\n",
       "      <td>25.705250</td>\n",
       "    </tr>\n",
       "    <tr>\n",
       "      <th>Bombay</th>\n",
       "      <td>27.035750</td>\n",
       "      <td>27.381500</td>\n",
       "      <td>27.634667</td>\n",
       "      <td>27.177750</td>\n",
       "      <td>27.844500</td>\n",
       "      <td>27.765417</td>\n",
       "    </tr>\n",
       "    <tr>\n",
       "      <th>Calcutta</th>\n",
       "      <td>26.729167</td>\n",
       "      <td>26.986250</td>\n",
       "      <td>26.584583</td>\n",
       "      <td>26.522333</td>\n",
       "      <td>27.153250</td>\n",
       "      <td>27.288833</td>\n",
       "    </tr>\n",
       "    <tr>\n",
       "      <th>Delhi</th>\n",
       "      <td>25.716083</td>\n",
       "      <td>26.365917</td>\n",
       "      <td>26.145667</td>\n",
       "      <td>25.675000</td>\n",
       "      <td>26.554250</td>\n",
       "      <td>26.520250</td>\n",
       "    </tr>\n",
       "  </tbody>\n",
       "</table>\n",
       "</div>"
      ],
      "text/plain": [
       "year                       2005       2006       2007       2008       2009  \\\n",
       "country  city                                                                 \n",
       "Egypt    Cairo        22.006500  22.050000  22.361000  22.644500  22.625000   \n",
       "         Gizeh        22.006500  22.050000  22.361000  22.644500  22.625000   \n",
       "Ethiopia Addis Abeba  18.312833  18.427083  18.142583  18.165000  18.765333   \n",
       "France   Paris        11.552917  11.788500  11.750833  11.278250  11.464083   \n",
       "Germany  Berlin        9.919083  10.545333  10.883167  10.657750  10.062500   \n",
       "India    Ahmadabad    26.828083  27.282833  27.511167  27.048500  28.095833   \n",
       "         Bangalore    25.476500  25.418250  25.464333  25.352583  25.725750   \n",
       "         Bombay       27.035750  27.381500  27.634667  27.177750  27.844500   \n",
       "         Calcutta     26.729167  26.986250  26.584583  26.522333  27.153250   \n",
       "         Delhi        25.716083  26.365917  26.145667  25.675000  26.554250   \n",
       "\n",
       "year                       2010  \n",
       "country  city                    \n",
       "Egypt    Cairo        23.718250  \n",
       "         Gizeh        23.718250  \n",
       "Ethiopia Addis Abeba  18.298250  \n",
       "France   Paris        10.409833  \n",
       "Germany  Berlin        8.606833  \n",
       "India    Ahmadabad    28.017833  \n",
       "         Bangalore    25.705250  \n",
       "         Bombay       27.765417  \n",
       "         Calcutta     27.288833  \n",
       "         Delhi        26.520250  "
      ]
     },
     "execution_count": 46,
     "metadata": {},
     "output_type": "execute_result"
    }
   ],
   "source": [
    "# Subset for Egypt to India\n",
    "temp_by_country_city_vs_year.loc[\"Egypt\":\"India\"]\n",
    "\n",
    "# Subset for Egypt, Cairo to India, Delhi\n",
    "temp_by_country_city_vs_year.loc[(\"Egypt\", \"Cairo\"):(\"India\", \"Delhi\")]\n",
    "\n",
    "# Subset for Egypt, Cairo to India, Delhi, and 2005 to 2010\n",
    "temp_by_country_city_vs_year.loc[(\"Egypt\", \"Cairo\"):(\"India\", \"Delhi\"), 2005:2010]"
   ]
  },
  {
   "cell_type": "markdown",
   "id": "9cf79780",
   "metadata": {},
   "source": [
    "## 3.14 Calculating on a pivot table\n",
    "Pivot tables are filled with summary statistics, but they are only a first step to finding something insightful. Often you'll need to perform further calculations on them. A common thing to do is to find the rows or columns where the highest or lowest value occurs.\n",
    "\n",
    "Recall from Chapter 1 that you can easily subset a Series or DataFrame to find rows of interest using a logical condition inside of square brackets. For example: `series[series > value]`.\n",
    "\n",
    "`pandas` is loaded as `pd` and the DataFrame `temp_by_country_city_vs_year` is available."
   ]
  },
  {
   "cell_type": "markdown",
   "id": "a84aeafe",
   "metadata": {},
   "source": [
    "### 3.14.1 Instructions\n",
    "- Calculate the mean temperature for each year, assigning to `mean_temp_by_year`.\n",
    "- Filter `mean_temp_by_year` for the year that had the highest mean temperature.\n",
    "- Calculate the mean temperature for each city (across columns), assigning to `mean_temp_by_city`.\n",
    "- Filter `mean_temp_by_city` for the city that had the lowest mean temperature."
   ]
  },
  {
   "cell_type": "code",
   "execution_count": 47,
   "id": "99ac700c",
   "metadata": {},
   "outputs": [
    {
     "name": "stdout",
     "output_type": "stream",
     "text": [
      "year\n",
      "2013    20.312285\n",
      "dtype: float64\n",
      "country  city  \n",
      "China    Harbin    4.876551\n",
      "dtype: float64\n"
     ]
    }
   ],
   "source": [
    "# Get the worldwide mean temp by year\n",
    "mean_temp_by_year = temp_by_country_city_vs_year.mean()\n",
    "\n",
    "# Filter for the year that had the highest mean temp\n",
    "print(mean_temp_by_year[mean_temp_by_year == mean_temp_by_year.max()])\n",
    "\n",
    "# Get the mean temp by city\n",
    "mean_temp_by_city = temp_by_country_city_vs_year.mean(axis=\"columns\")\n",
    "\n",
    "# Filter for the city that had the lowest mean temp\n",
    "print(mean_temp_by_city[mean_temp_by_city == mean_temp_by_city.min()])"
   ]
  },
  {
   "cell_type": "markdown",
   "id": "0c01049f",
   "metadata": {},
   "source": [
    "# 4 Creating and Visualizing DataFrames\n",
    "Learn to visualize the contents of your DataFrames, handle missing data values, and import data from and export data to CSV files."
   ]
  },
  {
   "cell_type": "markdown",
   "id": "a5471afe",
   "metadata": {},
   "source": [
    "## 4.1 Visualizing your data"
   ]
  },
  {
   "cell_type": "markdown",
   "id": "33c656fb",
   "metadata": {},
   "source": [
    "## 4.2 Which avocado size is most popular?\n",
    "Avocados are increasingly popular and delicious in guacamole and on toast. The Hass Avocado Board keeps track of avocado supply and demand across the USA, including the sales of three different sizes of avocado. In this exercise, you'll use a bar plot to figure out which size is the most popular.\n",
    "\n",
    "Bar plots are great for revealing relationships between categorical (size) and numeric (number sold) variables, but you'll often have to manipulate your data first in order to get the numbers you need for plotting.\n",
    "\n",
    "`pandas` has been imported as `pd`, and `avocados` is available."
   ]
  },
  {
   "cell_type": "markdown",
   "id": "47f6c7f0",
   "metadata": {},
   "source": [
    "### 4.2.1 Instructions\n",
    "- Print the head of the `avocados` dataset. *What columns are available?*\n",
    "- For each avocado size group, calculate the total number sold, storing as `nb_sold_by_size`.\n",
    "- Create a bar plot of the number of avocados sold by size.\n",
    "- Show the plot."
   ]
  },
  {
   "cell_type": "code",
   "execution_count": 48,
   "id": "a1430fac",
   "metadata": {},
   "outputs": [
    {
     "name": "stdout",
     "output_type": "stream",
     "text": [
      "         date          type  year  avg_price   size     nb_sold\n",
      "0  2015-12-27  conventional  2015       0.95  small  9626901.09\n",
      "1  2015-12-20  conventional  2015       0.98  small  8710021.76\n",
      "2  2015-12-13  conventional  2015       0.93  small  9855053.66\n",
      "3  2015-12-06  conventional  2015       0.89  small  9405464.36\n",
      "4  2015-11-29  conventional  2015       0.99  small  8094803.56\n"
     ]
    },
    {
     "data": {
      "image/png": "[encoded data removed]",
      "text/plain": [
       "<Figure size 640x480 with 1 Axes>"
      ]
     },
     "metadata": {},
     "output_type": "display_data"
    }
   ],
   "source": [
    "import pickle\n",
    "with open('datasets/avoplotto.pkl', 'rb') as f:\n",
    "    avocados = pickle.load(f)\n",
    "\n",
    "# Import matplotlib.pyplot with alias plt\n",
    "import matplotlib.pyplot as plt\n",
    "\n",
    "# Look at the first few rows of data\n",
    "print(avocados.head())\n",
    "\n",
    "# Get the total number of avocados sold of each size\n",
    "nb_sold_by_size = avocados.groupby(\"size\")[\"nb_sold\"].sum()\n",
    "\n",
    "# Create a bar plot of the number of avocados sold by size\n",
    "nb_sold_by_size.plot(kind = \"bar\")\n",
    "\n",
    "# Show the plot\n",
    "plt.show()"
   ]
  },
  {
   "cell_type": "markdown",
   "id": "6e5c00bd",
   "metadata": {},
   "source": [
    "## 4.3 Changes in sales over time\n",
    "Line plots are designed to visualize the relationship between two numeric variables, where each data values is connected to the next one. They are especially useful for visualizing the change in a number over time since each time point is naturally connected to the next time point. In this exercise, you'll visualize the change in avocado sales over three years.\n",
    "\n",
    "`pandas` has been imported as `pd`, and `avocados` is available."
   ]
  },
  {
   "cell_type": "markdown",
   "id": "6737aaa5",
   "metadata": {},
   "source": [
    "### 4.3.1 Instructions\n",
    "- Get the total number of avocados sold on each date. *The DataFrame has two rows for each date—one for organic, and one for conventional*. Save this as `nb_sold_by_date`.\n",
    "- Create a line plot of the number of avocados sold.\n",
    "- Show the plot."
   ]
  },
  {
   "cell_type": "code",
   "execution_count": 49,
   "id": "9fa0af67",
   "metadata": {},
   "outputs": [
    {
     "data": {
      "image/png": "[encoded data removed]",
      "text/plain": [
       "<Figure size 640x480 with 1 Axes>"
      ]
     },
     "metadata": {},
     "output_type": "display_data"
    }
   ],
   "source": [
    "# Import matplotlib.pyplot with alias plt\n",
    "# import matplotlib.pyplot as plt\n",
    "\n",
    "# Get the total number of avocados sold on each date\n",
    "nb_sold_by_date = avocados.groupby(\"date\")[\"nb_sold\"].sum()\n",
    "\n",
    "# Create a line plot of the number of avocados sold by date\n",
    "nb_sold_by_date.plot(kind = \"line\")\n",
    "\n",
    "# Show the plot\n",
    "plt.show()"
   ]
  },
  {
   "cell_type": "markdown",
   "id": "a05ec1ea",
   "metadata": {},
   "source": [
    "## 4.4 Avocado supply and demand\n",
    "Scatter plots are ideal for visualizing relationships between numerical variables. In this exercise, you'll compare the number of avocados sold to average price and see if they're at all related. If they're related, you may be able to use one number to predict the other.\n",
    "\n",
    "`matplotlib.pyplot` has been imported as `plt`, `pandas` has been imported as `pd`, and `avocados` is available."
   ]
  },
  {
   "cell_type": "markdown",
   "id": "0c2c7e06",
   "metadata": {},
   "source": [
    "### 4.4.1 Instructions\n",
    "- Create a scatter plot with `nb_sold` on the x-axis and `avg_price` on the y-axis. Title it `\"Number of avocados sold vs. average price\"`.\n",
    "- Show the plot."
   ]
  },
  {
   "cell_type": "code",
   "execution_count": 50,
   "id": "d9310126",
   "metadata": {},
   "outputs": [
    {
     "data": {
      "image/png": "[encoded data removed]",
      "text/plain": [
       "<Figure size 640x480 with 1 Axes>"
      ]
     },
     "metadata": {},
     "output_type": "display_data"
    }
   ],
   "source": [
    "# Scatter plot of avg_price vs. nb_sold with title\n",
    "avocados.plot(x = \"nb_sold\", y = \"avg_price\", title = \"Number of avocados sold vs. average price\", kind = \"scatter\")\n",
    "\n",
    "# Show the plot\n",
    "plt.show()"
   ]
  },
  {
   "cell_type": "markdown",
   "id": "2e5c6c2b",
   "metadata": {},
   "source": [
    "## 4.5 Price of conventional vs. organic avocados\n",
    "Creating multiple plots for different subsets of data allows you to compare groups. In this exercise, you'll create multiple histograms to compare the prices of conventional and organic avocados.\n",
    "\n",
    "`matplotlib.pyplot` has been imported as `plt` and `pandas` has been imported as `pd`."
   ]
  },
  {
   "cell_type": "markdown",
   "id": "c3ce4615",
   "metadata": {},
   "source": [
    "### 4.5.1 Instructions 1/3\n",
    "- Subset `avocados` for the conventional type, and the average price column. Create a histogram.\n",
    "- Create a histogram of `avg_price` for organic type avocados.\n",
    "- Add a legend to your plot, with the names \"conventional\" and \"organic\".\n",
    "- Show your plot."
   ]
  },
  {
   "cell_type": "code",
   "execution_count": 51,
   "id": "9ec723ff",
   "metadata": {},
   "outputs": [
    {
     "data": {
      "image/png": "[encoded data removed]",
      "text/plain": [
       "<Figure size 640x480 with 1 Axes>"
      ]
     },
     "metadata": {},
     "output_type": "display_data"
    }
   ],
   "source": [
    "# Histogram of conventional avg_price \n",
    "avocados[avocados[\"type\"] == \"conventional\"][\"avg_price\"].hist()\n",
    "\n",
    "# Histogram of organic avg_price\n",
    "avocados[avocados[\"type\"] == \"organic\"][\"avg_price\"].hist()\n",
    "\n",
    "# Add a legend\n",
    "plt.legend([\"conventional\", \"organic\"])\n",
    "\n",
    "# Show the plot\n",
    "plt.show()"
   ]
  },
  {
   "cell_type": "markdown",
   "id": "1111a071",
   "metadata": {},
   "source": [
    "### 4.5.2 Instructions 2/3\n",
    "- Modify your code to adjust the transparency of both histograms to `0.5` to see how much overlap there is between the two distributions."
   ]
  },
  {
   "cell_type": "code",
   "execution_count": 52,
   "id": "314c8ec4",
   "metadata": {},
   "outputs": [
    {
     "data": {
      "image/png": "[encoded data removed]",
      "text/plain": [
       "<Figure size 640x480 with 1 Axes>"
      ]
     },
     "metadata": {},
     "output_type": "display_data"
    }
   ],
   "source": [
    "# Modify histogram transparency to 0.5 \n",
    "avocados[avocados[\"type\"] == \"conventional\"][\"avg_price\"].hist(alpha = 0.5)\n",
    "\n",
    "# Modify histogram transparency to 0.5\n",
    "avocados[avocados[\"type\"] == \"organic\"][\"avg_price\"].hist(alpha = 0.5)\n",
    "\n",
    "# Add a legend\n",
    "plt.legend([\"conventional\", \"organic\"])\n",
    "\n",
    "# Show the plot\n",
    "plt.show()"
   ]
  },
  {
   "cell_type": "markdown",
   "id": "c0088e95",
   "metadata": {},
   "source": [
    "### 4.5.3 Instructions 3/3\n",
    "- Modify your code to use 20 bins in both histograms."
   ]
  },
  {
   "cell_type": "code",
   "execution_count": 53,
   "id": "c51885d9",
   "metadata": {},
   "outputs": [
    {
     "data": {
      "image/png": "[encoded data removed]",
      "text/plain": [
       "<Figure size 640x480 with 1 Axes>"
      ]
     },
     "metadata": {},
     "output_type": "display_data"
    }
   ],
   "source": [
    "# Modify bins to 20\n",
    "avocados[avocados[\"type\"] == \"conventional\"][\"avg_price\"].hist(alpha = 0.5, bins = 20)\n",
    "\n",
    "# Modify bins to 20\n",
    "avocados[avocados[\"type\"] == \"organic\"][\"avg_price\"].hist(alpha = 0.5, bins = 20)\n",
    "\n",
    "# Add a legend\n",
    "plt.legend([\"conventional\", \"organic\"])\n",
    "\n",
    "# Show the plot\n",
    "plt.show()"
   ]
  },
  {
   "cell_type": "markdown",
   "id": "436853b6",
   "metadata": {},
   "source": [
    "## 4.6 Missing values"
   ]
  },
  {
   "cell_type": "markdown",
   "id": "f2453149",
   "metadata": {},
   "source": [
    "## 4.7 Finding missing values\n",
    "Missing values are everywhere, and you don't want them interfering with your work. Some functions ignore missing data by default, but that's not always the behavior you might want. Some functions can't handle missing values at all, so these values need to be taken care of before you can use them. If you don't know where your missing values are, or if they exist, you could make mistakes in your analysis. In this exercise, you'll determine if there are missing values in the dataset, and if so, how many.\n",
    "\n",
    "`pandas` has been imported as `pd` and `avocados_2016`, a subset of `avocados` that contains only sales from 2016, is available."
   ]
  },
  {
   "cell_type": "markdown",
   "id": "13fa5557",
   "metadata": {},
   "source": [
    "### 4.7.1 Instructions\n",
    "- Print a DataFrame that shows whether each value in `avocados_2016` is missing or not.\n",
    "- Print a summary that shows whether *any* value in each column is missing or not.\n",
    "- Create a bar plot of the total number of missing values in each column."
   ]
  },
  {
   "cell_type": "code",
   "execution_count": 54,
   "id": "9afac98a",
   "metadata": {},
   "outputs": [
    {
     "name": "stdout",
     "output_type": "stream",
     "text": [
      "     date  avg_price  total_sold  small_sold  large_sold  xl_sold  \\\n",
      "0   False      False       False       False       False    False   \n",
      "1   False      False       False       False       False    False   \n",
      "2   False      False       False       False        True    False   \n",
      "3   False      False       False       False       False    False   \n",
      "4   False      False       False       False       False     True   \n",
      "5   False      False       False        True       False    False   \n",
      "6   False      False       False       False       False    False   \n",
      "7   False      False       False       False        True    False   \n",
      "8   False      False       False       False       False    False   \n",
      "9   False      False       False       False       False    False   \n",
      "10  False      False       False       False        True    False   \n",
      "11  False      False       False       False       False    False   \n",
      "12  False      False       False       False       False    False   \n",
      "13  False      False       False       False       False    False   \n",
      "14  False      False       False       False       False    False   \n",
      "15  False      False       False       False        True    False   \n",
      "16  False      False       False       False       False     True   \n",
      "17  False      False       False       False       False    False   \n",
      "18  False      False       False       False       False    False   \n",
      "19  False      False       False       False        True    False   \n",
      "20  False      False       False       False       False    False   \n",
      "21  False      False       False       False       False    False   \n",
      "22  False      False       False       False       False    False   \n",
      "23  False      False       False       False       False    False   \n",
      "24  False      False       False       False       False    False   \n",
      "25  False      False       False       False       False    False   \n",
      "26  False      False       False       False       False    False   \n",
      "27  False      False       False       False       False    False   \n",
      "28  False      False       False       False       False    False   \n",
      "29  False      False       False       False       False    False   \n",
      "30  False      False       False       False       False     True   \n",
      "31  False      False       False       False       False    False   \n",
      "32  False      False       False       False       False     True   \n",
      "33  False      False       False       False       False    False   \n",
      "34  False      False       False       False       False    False   \n",
      "35  False      False       False       False       False    False   \n",
      "36  False      False       False        True       False    False   \n",
      "37  False      False       False       False        True    False   \n",
      "38  False      False       False       False       False    False   \n",
      "39  False      False       False       False       False    False   \n",
      "40  False      False       False        True       False    False   \n",
      "41  False      False       False       False       False    False   \n",
      "42  False      False       False       False       False    False   \n",
      "43  False      False       False       False       False    False   \n",
      "44  False      False       False        True       False    False   \n",
      "45  False      False       False       False       False    False   \n",
      "46  False      False       False       False       False    False   \n",
      "47  False      False       False       False       False    False   \n",
      "48  False      False       False       False       False    False   \n",
      "49  False      False       False       False       False    False   \n",
      "50  False      False       False        True       False    False   \n",
      "51  False      False       False        True       False    False   \n",
      "\n",
      "    total_bags_sold  small_bags_sold  large_bags_sold  xl_bags_sold  \n",
      "0             False            False            False         False  \n",
      "1             False            False            False         False  \n",
      "2             False            False            False         False  \n",
      "3             False            False            False         False  \n",
      "4             False            False            False         False  \n",
      "5             False            False            False         False  \n",
      "6             False            False            False         False  \n",
      "7             False            False            False         False  \n",
      "8             False            False            False         False  \n",
      "9             False            False            False         False  \n",
      "10            False            False            False         False  \n",
      "11            False            False            False         False  \n",
      "12            False            False            False         False  \n",
      "13            False            False            False         False  \n",
      "14            False            False            False         False  \n",
      "15            False            False            False         False  \n",
      "16            False            False            False         False  \n",
      "17            False            False            False         False  \n",
      "18            False            False            False         False  \n",
      "19            False            False            False         False  \n",
      "20            False            False            False         False  \n",
      "21            False            False            False         False  \n",
      "22            False            False            False         False  \n",
      "23            False            False            False         False  \n",
      "24            False            False            False         False  \n",
      "25            False            False            False         False  \n",
      "26            False            False            False         False  \n",
      "27            False            False            False         False  \n",
      "28            False            False            False         False  \n",
      "29            False            False            False         False  \n",
      "30            False            False            False         False  \n",
      "31            False            False            False         False  \n",
      "32            False            False            False         False  \n",
      "33            False            False            False         False  \n",
      "34            False            False            False         False  \n",
      "35            False            False            False         False  \n",
      "36            False            False            False         False  \n",
      "37            False            False            False         False  \n",
      "38            False            False            False         False  \n",
      "39            False            False            False         False  \n",
      "40            False            False            False         False  \n",
      "41            False            False            False         False  \n",
      "42            False            False            False         False  \n",
      "43            False            False            False         False  \n",
      "44            False            False            False         False  \n",
      "45            False            False            False         False  \n",
      "46            False            False            False         False  \n",
      "47            False            False            False         False  \n",
      "48            False            False            False         False  \n",
      "49            False            False            False         False  \n",
      "50            False            False            False         False  \n",
      "51            False            False            False         False  \n",
      "date               False\n",
      "avg_price          False\n",
      "total_sold         False\n",
      "small_sold          True\n",
      "large_sold          True\n",
      "xl_sold             True\n",
      "total_bags_sold    False\n",
      "small_bags_sold    False\n",
      "large_bags_sold    False\n",
      "xl_bags_sold       False\n",
      "dtype: bool\n"
     ]
    },
    {
     "data": {
      "image/png": "[encoded data removed]",
      "text/plain": [
       "<Figure size 640x480 with 1 Axes>"
      ]
     },
     "metadata": {},
     "output_type": "display_data"
    }
   ],
   "source": [
    "# Import matplotlib.pyplot with alias plt\n",
    "# import matplotlib.pyplot as plt\n",
    "avocados_2016 = pd.read_csv('datasets/avocados_2016.csv')\n",
    "\n",
    "# Check individual values for missing values\n",
    "print(avocados_2016.isna())\n",
    "\n",
    "# Check each column for missing values\n",
    "print(avocados_2016.isna().any())\n",
    "\n",
    "# Bar plot of missing values by variable\n",
    "avocados_2016.isna().sum().plot(kind = \"bar\")\n",
    "\n",
    "# Show plot\n",
    "plt.show()"
   ]
  },
  {
   "cell_type": "markdown",
   "id": "e531e9ee",
   "metadata": {},
   "source": [
    "## 4.8 Removing missing values\n",
    "Now that you know there are some missing values in your DataFrame, you have a few options to deal with them. One way is to remove them from the dataset completely. In this exercise, you'll remove missing values by removing all rows that contain missing values.\n",
    "\n",
    "`pandas` has been imported as `pd` and `avocados_2016` is available."
   ]
  },
  {
   "cell_type": "markdown",
   "id": "a9311bfe",
   "metadata": {},
   "source": [
    "### 4.8.1 Instructions\n",
    "- Remove the rows of `avocados_2016` that contain missing values and store the remaining rows in `avocados_complete`.\n",
    "- Verify that all missing values have been removed from `avocados_complete`. Calculate each column that has NAs and print."
   ]
  },
  {
   "cell_type": "code",
   "execution_count": 55,
   "id": "1bcc43ae",
   "metadata": {},
   "outputs": [
    {
     "name": "stdout",
     "output_type": "stream",
     "text": [
      "date               False\n",
      "avg_price          False\n",
      "total_sold         False\n",
      "small_sold         False\n",
      "large_sold         False\n",
      "xl_sold            False\n",
      "total_bags_sold    False\n",
      "small_bags_sold    False\n",
      "large_bags_sold    False\n",
      "xl_bags_sold       False\n",
      "dtype: bool\n"
     ]
    }
   ],
   "source": [
    "# Remove rows with missing values\n",
    "avocados_complete = avocados_2016.dropna()\n",
    "\n",
    "# Check if any columns contain missing values\n",
    "print(avocados_complete.isna().any())"
   ]
  },
  {
   "cell_type": "markdown",
   "id": "fa4e3d6c",
   "metadata": {},
   "source": [
    "## 4.9 Replacing missing values\n",
    "Another way of handling missing values is to replace them all with the same value. For numerical variables, one option is to replace values with 0— you'll do this here. However, when you replace missing values, you make assumptions about what a missing value means. In this case, you will assume that a missing number sold means that no sales for that avocado type were made that week.\n",
    "\n",
    "In this exercise, you'll see how replacing missing values can affect the distribution of a variable using histograms. You can plot histograms for multiple variables at a time as follows:\n",
    "\n",
    "```python\n",
    "dogs[[\"height_cm\", \"weight_kg\"]].hist()\n",
    "```\n",
    "\n",
    "`pandas` has been imported as `pd` and `matplotlib.pyplot` has been imported as `plt`. The `avocados_2016` dataset is available."
   ]
  },
  {
   "cell_type": "markdown",
   "id": "5243d5b8",
   "metadata": {},
   "source": [
    "### 4.9.1 Instructions 1/2\n",
    "- A list has been created, `cols_with_missing`, containing the names of columns with missing values: `\"small_sold\"`, `\"large_sold\"`, and `\"xl_sold\"`.\n",
    "- Create a histogram of those columns.\n",
    "- Show the plot."
   ]
  },
  {
   "cell_type": "code",
   "execution_count": 56,
   "id": "7848571a",
   "metadata": {},
   "outputs": [
    {
     "data": {
      "image/png": "[encoded data removed]",
      "text/plain": [
       "<Figure size 640x480 with 4 Axes>"
      ]
     },
     "metadata": {},
     "output_type": "display_data"
    }
   ],
   "source": [
    "# List the columns with missing values\n",
    "cols_with_missing = [\"small_sold\", \"large_sold\", \"xl_sold\"]\n",
    "\n",
    "# Create histograms showing the distributions cols_with_missing\n",
    "avocados_2016[cols_with_missing].hist()\n",
    "\n",
    "# Show the plot\n",
    "plt.show()"
   ]
  },
  {
   "cell_type": "markdown",
   "id": "92ba95a0",
   "metadata": {},
   "source": [
    "### 4.9.2 Instructions 2/2\n",
    "- Replace the missing values of `avocados_2016` with `0`s and store the result as `avocados_filled`.\n",
    "- Create a histogram of the `cols_with_missing` columns of `avocados_filled`."
   ]
  },
  {
   "cell_type": "code",
   "execution_count": 57,
   "id": "655df2a4",
   "metadata": {},
   "outputs": [
    {
     "data": {
      "image/png": "[encoded data removed]",
      "text/plain": [
       "<Figure size 640x480 with 4 Axes>"
      ]
     },
     "metadata": {},
     "output_type": "display_data"
    },
    {
     "data": {
      "image/png": "[encoded data removed]",
      "text/plain": [
       "<Figure size 640x480 with 4 Axes>"
      ]
     },
     "metadata": {},
     "output_type": "display_data"
    }
   ],
   "source": [
    "# From previous step\n",
    "cols_with_missing = [\"small_sold\", \"large_sold\", \"xl_sold\"]\n",
    "avocados_2016[cols_with_missing].hist()\n",
    "plt.show()\n",
    "\n",
    "# Fill in missing values with 0\n",
    "avocados_filled = avocados_2016.fillna(0)\n",
    "\n",
    "# Create histograms of the filled columns\n",
    "avocados_filled[cols_with_missing].hist()\n",
    "\n",
    "# Show the plot\n",
    "plt.show()"
   ]
  },
  {
   "cell_type": "markdown",
   "id": "16d0477d",
   "metadata": {},
   "source": [
    "## 4.10 Creating DataFrames"
   ]
  },
  {
   "cell_type": "markdown",
   "id": "483152a1",
   "metadata": {},
   "source": [
    "## 4.11 List of dictionaries\n",
    "You recently got some new avocado data from 2019 that you'd like to put in a DataFrame using the list of dictionaries method. Remember that with this method, you go through the data row by row.\n",
    "\n",
    "| date         | small_sold | large_sold |\n",
    "|:------------:|:----------:|:----------:|\n",
    "| \"2019-11-03\" | 10376832   | 7835071    |\n",
    "| \"2019-11-10\" | 10717154   | 8561348    |\n",
    "\n",
    "`pandas` as `pd` is imported."
   ]
  },
  {
   "cell_type": "markdown",
   "id": "bb1628a2",
   "metadata": {},
   "source": [
    "### 4.11.1 Instructions\n",
    "- Create a list of dictionaries with the new data called `avocados_list`.\n",
    "- Convert the list into a DataFrame called `avocados_2019`.\n",
    "- Print your new DataFrame."
   ]
  },
  {
   "cell_type": "code",
   "execution_count": 58,
   "id": "b37da27c",
   "metadata": {},
   "outputs": [
    {
     "name": "stdout",
     "output_type": "stream",
     "text": [
      "         date  small_sold  large_sold\n",
      "0  2019-11-03    10376832     7835071\n",
      "1  2019-11-10    10717154     8561348\n"
     ]
    }
   ],
   "source": [
    "# Create a list of dictionaries with new data\n",
    "avocados_list = [\n",
    "    {\"date\": \"2019-11-03\", \"small_sold\": 10376832, \"large_sold\": 7835071},\n",
    "    {\"date\": \"2019-11-10\", \"small_sold\": 10717154, \"large_sold\": 8561348},\n",
    "]\n",
    "\n",
    "# Convert list into DataFrame\n",
    "avocados_2019 = pd.DataFrame(avocados_list)\n",
    "\n",
    "# Print the new DataFrame\n",
    "print(avocados_2019)"
   ]
  },
  {
   "cell_type": "markdown",
   "id": "91bf5b11",
   "metadata": {},
   "source": [
    "## 4.12 Dictionary of lists\n",
    "Some more data just came in! This time, you'll use the dictionary of lists method, parsing the data column by column.\n",
    "\n",
    "| date         | small_sold | large_sold |\n",
    "|:------------:|:----------:|:----------:|\n",
    "| \"2019-11-17\" | 10859987   | 7674135    |\n",
    "| \"2019-12-01\" | 9291631    | 6238096    |\n",
    "\n",
    "`pandas` as `pd` is imported."
   ]
  },
  {
   "cell_type": "markdown",
   "id": "9e8b9e6a",
   "metadata": {},
   "source": [
    "### 4.12.1 Instructions\n",
    "- Create a dictionary of lists with the new data called `avocados_dict`.\n",
    "- Convert the dictionary to a DataFrame called `avocados_2019`.\n",
    "- Print your new DataFrame."
   ]
  },
  {
   "cell_type": "code",
   "execution_count": 59,
   "id": "7d2b3d15",
   "metadata": {},
   "outputs": [
    {
     "name": "stdout",
     "output_type": "stream",
     "text": [
      "         date  small_sold  large_sold\n",
      "0  2019-11-17    10859987     7674135\n",
      "1  2019-12-01     9291631     6238096\n"
     ]
    }
   ],
   "source": [
    "# Create a dictionary of lists with new data\n",
    "avocados_dict = {\n",
    "  \"date\": [\"2019-11-17\", \"2019-12-01\"],\n",
    "  \"small_sold\": [10859987, 9291631],\n",
    "  \"large_sold\": [7674135, 6238096]\n",
    "}\n",
    "\n",
    "# Convert dictionary into DataFrame\n",
    "avocados_2019 = pd.DataFrame(avocados_dict)\n",
    "\n",
    "# Print the new DataFrame\n",
    "print(avocados_2019)"
   ]
  },
  {
   "cell_type": "markdown",
   "id": "11936182",
   "metadata": {},
   "source": [
    "## 4.13 Reading and writing CSVs"
   ]
  },
  {
   "cell_type": "markdown",
   "id": "aa18c7b3",
   "metadata": {},
   "source": [
    "## 4.14 CSV to DataFrame\n",
    "You work for an airline, and your manager has asked you to do a competitive analysis and see how often passengers flying on other airlines are involuntarily bumped from their flights. You got a CSV file (`airline_bumping.csv`) from the Department of Transportation containing data on passengers that were involuntarily denied boarding in 2016 and 2017, but it doesn't have the exact numbers you want. In order to figure this out, you'll need to get the CSV into a pandas DataFrame and do some manipulation!\n",
    "\n",
    "`pandas` is imported for you as `pd`. `\"airline_bumping.csv\"` is in your working directory."
   ]
  },
  {
   "cell_type": "markdown",
   "id": "f7e002a2",
   "metadata": {},
   "source": [
    "### 4.14.1 Instructions 1/4\n",
    "- Read the CSV file `\"airline_bumping.csv\"` and store it as a DataFrame called `airline_bumping`.\n",
    "- Print the first few rows of `airline_bumping`."
   ]
  },
  {
   "cell_type": "code",
   "execution_count": 60,
   "id": "ea66e72d",
   "metadata": {},
   "outputs": [
    {
     "name": "stdout",
     "output_type": "stream",
     "text": [
      "             airline  year  nb_bumped  total_passengers\n",
      "0    DELTA AIR LINES  2017        679          99796155\n",
      "1     VIRGIN AMERICA  2017        165           6090029\n",
      "2    JETBLUE AIRWAYS  2017       1475          27255038\n",
      "3    UNITED AIRLINES  2017       2067          70030765\n",
      "4  HAWAIIAN AIRLINES  2017         92           8422734\n"
     ]
    }
   ],
   "source": [
    "# Read CSV as DataFrame called airline_bumping\n",
    "airline_bumping = pd.read_csv(\"datasets/airline_bumping.csv\")\n",
    "\n",
    "# Take a look at the DataFrame\n",
    "print(airline_bumping.head())"
   ]
  },
  {
   "cell_type": "markdown",
   "id": "1337bbf3",
   "metadata": {},
   "source": [
    "### 4.14.2 Instructions 2/4\n",
    "- For each airline group, select the `nb_bumped`, and `total_passengers` columns, and calculate the sum (for both years). Store this as `airline_totals`."
   ]
  },
  {
   "cell_type": "code",
   "execution_count": 61,
   "id": "f4098111",
   "metadata": {},
   "outputs": [
    {
     "name": "stdout",
     "output_type": "stream",
     "text": [
      "             airline  year  nb_bumped  total_passengers\n",
      "0    DELTA AIR LINES  2017        679          99796155\n",
      "1     VIRGIN AMERICA  2017        165           6090029\n",
      "2    JETBLUE AIRWAYS  2017       1475          27255038\n",
      "3    UNITED AIRLINES  2017       2067          70030765\n",
      "4  HAWAIIAN AIRLINES  2017         92           8422734\n"
     ]
    }
   ],
   "source": [
    "# From previous step\n",
    "airline_bumping = pd.read_csv(\"datasets/airline_bumping.csv\")\n",
    "print(airline_bumping.head())\n",
    "\n",
    "# For each airline, select nb_bumped and total_passengers and sum\n",
    "airline_totals = airline_bumping.groupby(\"airline\")[[\"nb_bumped\", \"total_passengers\"]].sum()"
   ]
  },
  {
   "cell_type": "markdown",
   "id": "2a5a71d5",
   "metadata": {},
   "source": [
    "### 4.14.3 Instructions 3/4\n",
    "- Create a new column of `airline_totals` called `bumps_per_10k`, which is the number of passengers bumped per 10,000 passengers in 2016 and 2017."
   ]
  },
  {
   "cell_type": "code",
   "execution_count": 62,
   "id": "7e7df5b1",
   "metadata": {},
   "outputs": [
    {
     "name": "stdout",
     "output_type": "stream",
     "text": [
      "             airline  year  nb_bumped  total_passengers\n",
      "0    DELTA AIR LINES  2017        679          99796155\n",
      "1     VIRGIN AMERICA  2017        165           6090029\n",
      "2    JETBLUE AIRWAYS  2017       1475          27255038\n",
      "3    UNITED AIRLINES  2017       2067          70030765\n",
      "4  HAWAIIAN AIRLINES  2017         92           8422734\n"
     ]
    }
   ],
   "source": [
    "# From previous steps\n",
    "airline_bumping = pd.read_csv(\"datasets/airline_bumping.csv\")\n",
    "print(airline_bumping.head())\n",
    "airline_totals = airline_bumping.groupby(\"airline\")[[\"nb_bumped\", \"total_passengers\"]].sum()\n",
    "\n",
    "# Create new col, bumps_per_10k: no. of bumps per 10k passengers for each airline\n",
    "airline_totals[\"bumps_per_10k\"] = airline_totals[\"nb_bumped\"] / airline_totals[\"total_passengers\"] * 10000"
   ]
  },
  {
   "cell_type": "markdown",
   "id": "7903e926",
   "metadata": {},
   "source": [
    "### 4.14.4 Instructions 4/4\n",
    "- Print `airline_totals` to see the results of your manipulations."
   ]
  },
  {
   "cell_type": "code",
   "execution_count": 63,
   "id": "3cb62358",
   "metadata": {},
   "outputs": [
    {
     "name": "stdout",
     "output_type": "stream",
     "text": [
      "             airline  year  nb_bumped  total_passengers\n",
      "0    DELTA AIR LINES  2017        679          99796155\n",
      "1     VIRGIN AMERICA  2017        165           6090029\n",
      "2    JETBLUE AIRWAYS  2017       1475          27255038\n",
      "3    UNITED AIRLINES  2017       2067          70030765\n",
      "4  HAWAIIAN AIRLINES  2017         92           8422734\n",
      "                     nb_bumped  total_passengers  bumps_per_10k\n",
      "airline                                                        \n",
      "ALASKA AIRLINES           1392          36543121       0.380920\n",
      "AMERICAN AIRLINES        11115         197365225       0.563169\n",
      "DELTA AIR LINES           1591         197033215       0.080748\n",
      "EXPRESSJET AIRLINES       3326          27858678       1.193883\n",
      "FRONTIER AIRLINES         1228          22954995       0.534960\n",
      "HAWAIIAN AIRLINES          122          16577572       0.073593\n",
      "JETBLUE AIRWAYS           3615          53245866       0.678926\n",
      "SKYWEST AIRLINES          3094          47091737       0.657015\n",
      "SOUTHWEST AIRLINES       18585         228142036       0.814624\n",
      "SPIRIT AIRLINES           2920          32304571       0.903897\n",
      "UNITED AIRLINES           4941         134468897       0.367446\n",
      "VIRGIN AMERICA             242          12017967       0.201365\n"
     ]
    }
   ],
   "source": [
    "# From previous steps\n",
    "airline_bumping = pd.read_csv(\"datasets/airline_bumping.csv\")\n",
    "print(airline_bumping.head())\n",
    "airline_totals = airline_bumping.groupby(\"airline\")[[\"nb_bumped\", \"total_passengers\"]].sum()\n",
    "airline_totals[\"bumps_per_10k\"] = airline_totals[\"nb_bumped\"] / airline_totals[\"total_passengers\"] * 10000\n",
    "\n",
    "# Print airline_totals\n",
    "print(airline_totals)"
   ]
  },
  {
   "cell_type": "markdown",
   "id": "cc3ab2d4",
   "metadata": {},
   "source": [
    "## 4.15 DataFrame to CSV\n",
    "You're almost there! To make things easier to read, you'll need to sort the data and export it to CSV so that your colleagues can read it.\n",
    "\n",
    "`pandas` as `pd` has been imported for you."
   ]
  },
  {
   "cell_type": "markdown",
   "id": "2e7516a0",
   "metadata": {},
   "source": [
    "### 4.15.1 Instructions\n",
    "- Sort `airline_totals` by the values of `bumps_per_10k` from highest to lowest, storing as `airline_totals_sorted`.\n",
    "- Print your sorted DataFrame.\n",
    "- Save the sorted DataFrame as a CSV called `\"airline_totals_sorted.csv\"`."
   ]
  },
  {
   "cell_type": "code",
   "execution_count": 64,
   "id": "95e29fc8",
   "metadata": {},
   "outputs": [
    {
     "name": "stdout",
     "output_type": "stream",
     "text": [
      "                     nb_bumped  total_passengers  bumps_per_10k\n",
      "airline                                                        \n",
      "EXPRESSJET AIRLINES       3326          27858678       1.193883\n",
      "SPIRIT AIRLINES           2920          32304571       0.903897\n",
      "SOUTHWEST AIRLINES       18585         228142036       0.814624\n",
      "JETBLUE AIRWAYS           3615          53245866       0.678926\n",
      "SKYWEST AIRLINES          3094          47091737       0.657015\n",
      "AMERICAN AIRLINES        11115         197365225       0.563169\n",
      "FRONTIER AIRLINES         1228          22954995       0.534960\n",
      "ALASKA AIRLINES           1392          36543121       0.380920\n",
      "UNITED AIRLINES           4941         134468897       0.367446\n",
      "VIRGIN AMERICA             242          12017967       0.201365\n",
      "DELTA AIR LINES           1591         197033215       0.080748\n",
      "HAWAIIAN AIRLINES          122          16577572       0.073593\n"
     ]
    }
   ],
   "source": [
    "# Create airline_totals_sorted\n",
    "airline_totals_sorted = airline_totals.sort_values(\"bumps_per_10k\", ascending = False)\n",
    "\n",
    "# Print airline_totals_sorted\n",
    "print(airline_totals_sorted)\n",
    "\n",
    "# Save as airline_totals_sorted.csv\n",
    "airline_totals_sorted.to_csv(\"datasets/airline_totals_sorted.csv\")"
   ]
  },
  {
   "cell_type": "markdown",
   "id": "4f50b407",
   "metadata": {},
   "source": [
    "## 4.16 Wrap-up"
   ]
  }
 ],
 "metadata": {
  "kernelspec": {
   "display_name": "Python 3 (ipykernel)",
   "language": "python",
   "name": "python3"
  },
  "language_info": {
   "codemirror_mode": {
    "name": "ipython",
    "version": 3
   },
   "file_extension": ".py",
   "mimetype": "text/x-python",
   "name": "python",
   "nbconvert_exporter": "python",
   "pygments_lexer": "ipython3",
   "version": "3.9.15"
  }
 },
 "nbformat": 4,
 "nbformat_minor": 5
}
